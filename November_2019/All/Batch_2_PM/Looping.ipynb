{
 "cells": [
  {
   "cell_type": "markdown",
   "metadata": {},
   "source": [
    "# Loops in python\n",
    "\n",
    "* ### For loop\n",
    "* ### While ... else"
   ]
  },
  {
   "cell_type": "code",
   "execution_count": 1,
   "metadata": {},
   "outputs": [
    {
     "name": "stdout",
     "output_type": "stream",
     "text": [
      "hello\n",
      "hello\n",
      "hello\n",
      "hello\n",
      "hello\n",
      "hello\n",
      "hello\n",
      "hello\n",
      "hello\n",
      "hello\n"
     ]
    }
   ],
   "source": [
    "# while __ else\n",
    "\n",
    "i = 0\n",
    "\n",
    "while i < 10:\n",
    "    print('hello')\n",
    "    i += 1"
   ]
  },
  {
   "cell_type": "code",
   "execution_count": 2,
   "metadata": {},
   "outputs": [
    {
     "name": "stdout",
     "output_type": "stream",
     "text": [
      "\n",
      "*\n",
      "**\n",
      "***\n",
      "****\n",
      "*****\n",
      "******\n",
      "*******\n",
      "********\n",
      "*********\n"
     ]
    }
   ],
   "source": [
    "i = 0\n",
    "\n",
    "while i < 10:\n",
    "    print('*' * i)\n",
    "    i += 1"
   ]
  },
  {
   "cell_type": "code",
   "execution_count": 3,
   "metadata": {},
   "outputs": [
    {
     "name": "stdout",
     "output_type": "stream",
     "text": [
      "          * \n",
      "         * * \n",
      "        * * * \n",
      "       * * * * \n",
      "      * * * * * \n",
      "     * * * * * * \n",
      "    * * * * * * * \n",
      "   * * * * * * * * \n",
      "  * * * * * * * * * \n",
      " * * * * * * * * * * \n"
     ]
    }
   ],
   "source": [
    "i = 1\n",
    "while i < 11:\n",
    "    print(' ' * (11 - i) + '* ' * i)\n",
    "    i += 1"
   ]
  },
  {
   "cell_type": "code",
   "execution_count": 4,
   "metadata": {},
   "outputs": [
    {
     "name": "stdout",
     "output_type": "stream",
     "text": [
      "* \n",
      "* * \n",
      "* * * \n",
      "* * * * \n",
      "* * * * * \n",
      "* * * * * * \n",
      "* * * * * * * \n",
      "* * * * * * * * \n",
      "* * * * * * * * * \n",
      "* * * * * * * * * * \n"
     ]
    }
   ],
   "source": [
    "i = 1\n",
    "\n",
    "while i < 11:\n",
    "    print('* ' * i)\n",
    "    i += 1"
   ]
  },
  {
   "cell_type": "code",
   "execution_count": 5,
   "metadata": {},
   "outputs": [
    {
     "name": "stdout",
     "output_type": "stream",
     "text": [
      "* * * * * * * * * * * \n",
      "* * * * * * * * * * \n",
      "* * * * * * * * * \n",
      "* * * * * * * * \n",
      "* * * * * * * \n",
      "* * * * * * \n",
      "* * * * * \n",
      "* * * * \n",
      "* * * \n",
      "* * \n",
      "* \n"
     ]
    }
   ],
   "source": [
    "i = 11\n",
    "\n",
    "while i > 0:\n",
    "    print('* ' * i)\n",
    "    i -= 1"
   ]
  },
  {
   "cell_type": "code",
   "execution_count": 6,
   "metadata": {},
   "outputs": [
    {
     "name": "stdout",
     "output_type": "stream",
     "text": [
      "* * * * * * * * * * * \n",
      " * * * * * * * * * * \n",
      "  * * * * * * * * * \n",
      "   * * * * * * * * \n",
      "    * * * * * * * \n",
      "     * * * * * * \n",
      "      * * * * * \n",
      "       * * * * \n",
      "        * * * \n",
      "         * * \n",
      "          * \n"
     ]
    }
   ],
   "source": [
    "i = 11\n",
    "\n",
    "while i > 0:\n",
    "    print(' ' * (11 - i) + '* ' * i)\n",
    "    i -= 1"
   ]
  },
  {
   "cell_type": "code",
   "execution_count": 12,
   "metadata": {},
   "outputs": [
    {
     "name": "stdout",
     "output_type": "stream",
     "text": [
      "          *\n",
      "         **\n",
      "        ***\n",
      "       ****\n",
      "      *****\n",
      "     ******\n",
      "    *******\n",
      "   ********\n",
      "  *********\n",
      " **********\n"
     ]
    }
   ],
   "source": [
    "i = 1\n",
    "while i < 11:\n",
    "    print(' ' * (11 - i) + '*' * i)\n",
    "    i += 1"
   ]
  },
  {
   "cell_type": "code",
   "execution_count": 13,
   "metadata": {},
   "outputs": [
    {
     "name": "stdout",
     "output_type": "stream",
     "text": [
      "a 1\n",
      "b 2\n",
      "c 3\n"
     ]
    }
   ],
   "source": [
    "D = {'a': 1, 'b': 2, 'c': 3}\n",
    "\n",
    "for key in D:\n",
    "    print(key, D[key])"
   ]
  },
  {
   "cell_type": "code",
   "execution_count": 14,
   "metadata": {},
   "outputs": [
    {
     "name": "stdout",
     "output_type": "stream",
     "text": [
      "a 1\n",
      "b 2\n",
      "c 3\n"
     ]
    }
   ],
   "source": [
    "D = {'a': 1, 'b': 2, 'c': 3}\n",
    "\n",
    "for key,val in D.items():\n",
    "    print(key, val)"
   ]
  },
  {
   "cell_type": "code",
   "execution_count": 16,
   "metadata": {},
   "outputs": [
    {
     "name": "stdout",
     "output_type": "stream",
     "text": [
      "one : 1\n",
      "two : 2\n",
      "three : 3\n",
      "four : 4\n"
     ]
    }
   ],
   "source": [
    "alpha = ['one', 'two', 'three', 'four']\n",
    "nums = [1,2,3,4]\n",
    "\n",
    "i = 0\n",
    "\n",
    "while i < len(alpha) :\n",
    "    print( f\"{alpha[i]} : {nums[i]}\" )\n",
    "    i += 1"
   ]
  },
  {
   "cell_type": "code",
   "execution_count": 17,
   "metadata": {},
   "outputs": [
    {
     "name": "stdout",
     "output_type": "stream",
     "text": [
      "{'one': 1, 'two': 2, 'three': 3, 'four': 4}\n"
     ]
    }
   ],
   "source": [
    "i = 0\n",
    "\n",
    "mydict = {}\n",
    "\n",
    "while i < len(alpha) :\n",
    "    mydict.setdefault(alpha[i], nums[i])\n",
    "    i += 1\n",
    "    \n",
    "print(mydict)"
   ]
  },
  {
   "cell_type": "code",
   "execution_count": 18,
   "metadata": {},
   "outputs": [
    {
     "name": "stdout",
     "output_type": "stream",
     "text": [
      "2 is even.\n",
      "4 is even.\n",
      "6 is even.\n",
      "8 is even.\n",
      "10 is even.\n",
      "12 is even.\n",
      "14 is even.\n",
      "16 is even.\n",
      "18 is even.\n",
      "20 is even.\n"
     ]
    }
   ],
   "source": [
    "# even numbers\n",
    "\n",
    "i = 1\n",
    "\n",
    "while i <= 20:\n",
    "    if i % 2 == 0 :\n",
    "        print(f\"{i} is even.\")\n",
    "    i += 1"
   ]
  },
  {
   "cell_type": "code",
   "execution_count": 19,
   "metadata": {},
   "outputs": [
    {
     "name": "stdout",
     "output_type": "stream",
     "text": [
      "2 is even.\n",
      "4 is even.\n",
      "6 is even.\n",
      "8 is even.\n",
      "10 is even.\n"
     ]
    }
   ],
   "source": [
    "for i in range(1,11):\n",
    "    if i % 2 == 0:\n",
    "        print( f\"{i} is even.\" )"
   ]
  },
  {
   "cell_type": "code",
   "execution_count": 34,
   "metadata": {},
   "outputs": [
    {
     "name": "stdout",
     "output_type": "stream",
     "text": [
      "0 \n",
      "1 2 \n",
      "3 4 5 \n",
      "6 7 8 9 \n",
      "a b c d e \n",
      "f g h i j k \n",
      "l m n o p q r \n",
      "s t u v w x y z \n",
      "\n",
      "\n",
      "\n",
      "\n",
      "\n",
      "\n",
      "\n",
      "\n",
      "\n",
      "\n",
      "\n",
      "\n",
      "\n",
      "\n",
      "\n",
      "\n",
      "\n",
      "\n",
      "\n",
      "\n",
      "\n",
      "\n",
      "\n",
      "\n",
      "\n",
      "\n",
      "\n",
      "\n"
     ]
    }
   ],
   "source": [
    "alp = '0123456789abcdefghijklmnopqrstuvwxyz'\n",
    "a = 0\n",
    "for i in range( len(alp) ):\n",
    "    for j in range(0, i + 1):\n",
    "        if a < len(alp):\n",
    "            print( alp[a], end=' ' )\n",
    "        a += 1\n",
    "    print('')"
   ]
  },
  {
   "cell_type": "code",
   "execution_count": null,
   "metadata": {},
   "outputs": [],
   "source": []
  }
 ],
 "metadata": {
  "kernelspec": {
   "display_name": "Python 3",
   "language": "python",
   "name": "python3"
  },
  "language_info": {
   "codemirror_mode": {
    "name": "ipython",
    "version": 3
   },
   "file_extension": ".py",
   "mimetype": "text/x-python",
   "name": "python",
   "nbconvert_exporter": "python",
   "pygments_lexer": "ipython3",
   "version": "3.7.0"
  }
 },
 "nbformat": 4,
 "nbformat_minor": 2
}
