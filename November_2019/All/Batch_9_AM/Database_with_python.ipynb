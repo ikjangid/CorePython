{
 "cells": [
  {
   "cell_type": "markdown",
   "metadata": {},
   "source": [
    "# Database in Python\n",
    "\n",
    "## What is DBMS?\n",
    "* ### A set of programs to access the interrelated data.\n",
    "* ### DBMS contains informations about a particular enterprise.\n",
    "* ### Computerized record keeping system.\n",
    "* ### Provides convenient environment to user to perform operations:\n",
    "    - DB Creation\n",
    "    - Insertion\n",
    "    - Deletion\n",
    "    - Updating\n",
    "    - Retrieval of information\n",
    "\n",
    "### Alternate definition of Database and Database Management System\n",
    "\n",
    "#### Database: An integrated collection of more-or-less permanent data.\n",
    "\n",
    "#### DBMS: A software package/system  to facilitate the creation and maintenance of a computerized database.\n",
    "\n",
    "### Components of Database System\n",
    "\n",
    "* ### Users- People who interact with the database:\n",
    "    - Application Programmers.\n",
    "    - End Users.\n",
    "    - Data Administrators.\n",
    "    \n",
    "* ### Software- Lies between the stored data and the users:\n",
    "    - DBMS\n",
    "    - Application Software\n",
    "    - User Interface\n",
    "    \n",
    "                                            Users\n",
    "                                             ||\n",
    "                                             ||\n",
    "                                  ___________||___________\n",
    "                                 |                        |\n",
    "          Data ------------------| COMPONENTS OF DATABASE |--------------------| Software\n",
    "                                 |___________  ___________|\n",
    "                                             ||\n",
    "                                             ||\n",
    "                                             ||\n",
    "                                          Hardware\n",
    "                                  \n",
    "                                  \n",
    "#### Follow the steps to use SQLite3 database:\n",
    "    - import sqlite3 as mydb\n",
    "    - db = sql.connect(\"database_name.db\")\n",
    "    - cmd = \"create table users(email varchar(300) primary key,fname varchar(300), sname varchar(300),password varchar(500))\"\n",
    "    - cursor = db.cursor()\n",
    "    - cursor.execute(cmd)\n",
    "\n",
    "#### Follow the steps to use MySQL database:\n",
    "    - import pymysql as sql\n",
    "    - db = sql.connect(host='localhost', port=3306, user='root', password='', database='data')\n",
    "    - c = db.cursor()\n",
    "    - cmd = \"create table users(email varchar(300) primary key,fname varchar(300), sname varchar(300),password varchar(500))\"\n",
    "    - c.execute(cmd)\n",
    "    - db.commit()\n",
    "    \n",
    "   #### Note: A Local Server called MySQL server is required to connect MySQL. Here, we are using XAMPP Server.\n",
    "   \n",
    "### Some Meanings about DB\n",
    "\n",
    "### What is Cursor()?\n",
    "    - A database cursor is a control structure that enables traversal over the records in a database. Cursors facilitate subsequent processing in conjunction with the traversal, such as retrieval, addition and removal of database records.\n",
    "    \n",
    "### What is execute()?\n",
    "    - Executes a command string or character string within a Transact-SQL batch, or one of the following modules: system stored procedure, user-defined stored procedure, CLR stored procedure, scalar-valued user-defined function, or extended stored procedure.\n",
    "    \n",
    "### What is Commit()?\n",
    "    - A commit is the updating of a record in a database. In the context of a database transaction, a commit refers to the saving of data permanently after a set of tentative changes. A commit ends a transaction within a relational database and allows all other users to see the changes."
   ]
  },
  {
   "cell_type": "markdown",
   "metadata": {},
   "source": [
    "# SQL Statements\n",
    "\n",
    "* ## Creates a new database\n",
    "    - #### CREATE DATABASE \"database_name\";\n",
    "* ## Creates a new table\n",
    "    - #### CREATE TABLE table_name (column1 datatype, column2 datatype, column3 datatype, ....);\n",
    "* ## Extracts data from a database\n",
    "    - #### SELECT * FROM \"database_name\"; or SELECT \"field_name\" FROM \"database_name\";\n",
    "* ## Inserts new data into a database\n",
    "    - #### INSERT INTO table_name (column1, column2, column3) VALUES (value1, value2, value3);\n",
    "    #### or\n",
    "    - #### INSERT INTO table_name VALUES (value1, value2, value3);\n",
    "* ## Alter table\n",
    "    - #### ALTER TABLE table_name ADD column_name datatype;\n",
    "* ## Updates data in a database\n",
    "    - #### UPDATE table_name SET column1 = value1, column2 = value2, ... WHERE condition;\n",
    "* ## Deletes data from a database\n",
    "    - #### DELETE FROM table_name WHERE condition;\n",
    "* ## Deletes a table\n",
    "    - #### DROP TABLE table_name;\n",
    "* ## Creates an index (search key)\n",
    "    - #### CREATE INDEX index_name ON table_name (column1, column2, ...);\n",
    "    #### or\n",
    "    - #### CREATE UNIQUE INDEX index_name ON table_name (column1, column2, ...);\n",
    "    ##### Note: The CREATE INDEX statement is used to create indexes in tables.\n",
    "* ## Deletes an index\n",
    "    - #### ALTER TABLE table_name DROP INDEX index_name;"
   ]
  },
  {
   "cell_type": "markdown",
   "metadata": {},
   "source": [
    "### SQLite3"
   ]
  },
  {
   "cell_type": "code",
   "execution_count": 1,
   "metadata": {},
   "outputs": [],
   "source": [
    "# import sqlite3\n",
    "\n",
    "import sqlite3 as mydb"
   ]
  },
  {
   "cell_type": "code",
   "execution_count": 3,
   "metadata": {},
   "outputs": [],
   "source": [
    "db = mydb.connect(\"mydatabase.db\")"
   ]
  },
  {
   "cell_type": "code",
   "execution_count": 4,
   "metadata": {},
   "outputs": [],
   "source": [
    "cmd = \"create table users(email varchar(300) primary key, fname varchar(300), sname varchar(300), password varchar(500))\""
   ]
  },
  {
   "cell_type": "code",
   "execution_count": 5,
   "metadata": {},
   "outputs": [],
   "source": [
    "cursor = db.cursor()"
   ]
  },
  {
   "cell_type": "code",
   "execution_count": 6,
   "metadata": {},
   "outputs": [
    {
     "data": {
      "text/plain": [
       "<sqlite3.Cursor at 0x1a32ff47dc0>"
      ]
     },
     "execution_count": 6,
     "metadata": {},
     "output_type": "execute_result"
    }
   ],
   "source": [
    "cursor.execute(cmd)"
   ]
  },
  {
   "cell_type": "code",
   "execution_count": 7,
   "metadata": {},
   "outputs": [],
   "source": [
    "# insert data into table 'users'\n",
    "\n",
    "insert_cmd = \"insert into users values ('jackson@gmail.com','jackson','das','imjack')\""
   ]
  },
  {
   "cell_type": "code",
   "execution_count": 8,
   "metadata": {},
   "outputs": [
    {
     "data": {
      "text/plain": [
       "<sqlite3.Cursor at 0x1a32ff47dc0>"
      ]
     },
     "execution_count": 8,
     "metadata": {},
     "output_type": "execute_result"
    }
   ],
   "source": [
    "cursor.execute(insert_cmd)"
   ]
  },
  {
   "cell_type": "code",
   "execution_count": 9,
   "metadata": {},
   "outputs": [],
   "source": [
    "# get db data\n",
    "\n",
    "get_cmd = \"select * from users\""
   ]
  },
  {
   "cell_type": "code",
   "execution_count": 10,
   "metadata": {},
   "outputs": [
    {
     "data": {
      "text/plain": [
       "<sqlite3.Cursor at 0x1a32ff47dc0>"
      ]
     },
     "execution_count": 10,
     "metadata": {},
     "output_type": "execute_result"
    }
   ],
   "source": [
    "cursor.execute(get_cmd)"
   ]
  },
  {
   "cell_type": "code",
   "execution_count": 11,
   "metadata": {},
   "outputs": [],
   "source": [
    "data = cursor.fetchall()"
   ]
  },
  {
   "cell_type": "code",
   "execution_count": 12,
   "metadata": {},
   "outputs": [
    {
     "data": {
      "text/plain": [
       "[('jackson@gmail.com', 'jackson', 'das', 'imjack')]"
      ]
     },
     "execution_count": 12,
     "metadata": {},
     "output_type": "execute_result"
    }
   ],
   "source": [
    "data"
   ]
  },
  {
   "cell_type": "code",
   "execution_count": 17,
   "metadata": {},
   "outputs": [
    {
     "data": {
      "text/plain": [
       "<sqlite3.Cursor at 0x1a32ff47dc0>"
      ]
     },
     "execution_count": 17,
     "metadata": {},
     "output_type": "execute_result"
    }
   ],
   "source": [
    "# update data\n",
    "\n",
    "update_cmd = \"update users set password='imjack@123456' where email='jackson@gmail.com'\"\n",
    "\n",
    "cursor.execute(update_cmd)"
   ]
  },
  {
   "cell_type": "code",
   "execution_count": 18,
   "metadata": {},
   "outputs": [
    {
     "data": {
      "text/plain": [
       "[]"
      ]
     },
     "execution_count": 18,
     "metadata": {},
     "output_type": "execute_result"
    }
   ],
   "source": [
    "# check again, your data updated or not\n",
    "\n",
    "cursor.fetchall()"
   ]
  },
  {
   "cell_type": "code",
   "execution_count": 19,
   "metadata": {},
   "outputs": [],
   "source": [
    "cmd = \"select password from users\""
   ]
  },
  {
   "cell_type": "code",
   "execution_count": 20,
   "metadata": {},
   "outputs": [
    {
     "data": {
      "text/plain": [
       "<sqlite3.Cursor at 0x1a32ff47dc0>"
      ]
     },
     "execution_count": 20,
     "metadata": {},
     "output_type": "execute_result"
    }
   ],
   "source": [
    "cursor.execute(cmd)"
   ]
  },
  {
   "cell_type": "code",
   "execution_count": 22,
   "metadata": {},
   "outputs": [
    {
     "data": {
      "text/plain": [
       "[('imjack@123456',)]"
      ]
     },
     "execution_count": 22,
     "metadata": {},
     "output_type": "execute_result"
    }
   ],
   "source": [
    "cursor.fetchall()"
   ]
  },
  {
   "cell_type": "markdown",
   "metadata": {},
   "source": [
    "### MySQL"
   ]
  },
  {
   "cell_type": "code",
   "execution_count": 1,
   "metadata": {},
   "outputs": [],
   "source": [
    "import pymysql as sql"
   ]
  },
  {
   "cell_type": "code",
   "execution_count": 2,
   "metadata": {},
   "outputs": [],
   "source": [
    "db = sql.connect(host='localhost', port=3306, user='root')"
   ]
  },
  {
   "cell_type": "code",
   "execution_count": 3,
   "metadata": {},
   "outputs": [],
   "source": [
    "create_db = \"create database jupyterDb character set 'utf8'\""
   ]
  },
  {
   "cell_type": "code",
   "execution_count": 4,
   "metadata": {},
   "outputs": [],
   "source": [
    "cur = db.cursor()"
   ]
  },
  {
   "cell_type": "code",
   "execution_count": 6,
   "metadata": {},
   "outputs": [
    {
     "data": {
      "text/plain": [
       "1"
      ]
     },
     "execution_count": 6,
     "metadata": {},
     "output_type": "execute_result"
    }
   ],
   "source": [
    "cur.execute(create_db)"
   ]
  },
  {
   "cell_type": "code",
   "execution_count": 7,
   "metadata": {},
   "outputs": [
    {
     "data": {
      "text/plain": [
       "20"
      ]
     },
     "execution_count": 7,
     "metadata": {},
     "output_type": "execute_result"
    }
   ],
   "source": [
    "cur.execute('show databases')"
   ]
  },
  {
   "cell_type": "code",
   "execution_count": 8,
   "metadata": {},
   "outputs": [
    {
     "data": {
      "text/plain": [
       "0"
      ]
     },
     "execution_count": 8,
     "metadata": {},
     "output_type": "execute_result"
    }
   ],
   "source": [
    "use_db = 'use jupyterDB;'\n",
    "\n",
    "cur.execute(use_db)"
   ]
  },
  {
   "cell_type": "code",
   "execution_count": 9,
   "metadata": {},
   "outputs": [
    {
     "data": {
      "text/plain": [
       "0"
      ]
     },
     "execution_count": 9,
     "metadata": {},
     "output_type": "execute_result"
    }
   ],
   "source": [
    "show_tables = 'show tables'\n",
    "\n",
    "cur.execute(show_tables)"
   ]
  },
  {
   "cell_type": "code",
   "execution_count": 10,
   "metadata": {},
   "outputs": [],
   "source": [
    "create_table = \"create table mytable (name varchar(20), age varchar(20))\""
   ]
  },
  {
   "cell_type": "code",
   "execution_count": 11,
   "metadata": {},
   "outputs": [
    {
     "data": {
      "text/plain": [
       "0"
      ]
     },
     "execution_count": 11,
     "metadata": {},
     "output_type": "execute_result"
    }
   ],
   "source": [
    "cur.execute(create_table)"
   ]
  },
  {
   "cell_type": "code",
   "execution_count": 12,
   "metadata": {},
   "outputs": [],
   "source": [
    "insert_data = \"insert into mytable (name, age) values('jackson', '22')\""
   ]
  },
  {
   "cell_type": "code",
   "execution_count": 13,
   "metadata": {},
   "outputs": [
    {
     "data": {
      "text/plain": [
       "1"
      ]
     },
     "execution_count": 13,
     "metadata": {},
     "output_type": "execute_result"
    }
   ],
   "source": [
    "cur.execute(insert_data)"
   ]
  },
  {
   "cell_type": "code",
   "execution_count": 3,
   "metadata": {},
   "outputs": [],
   "source": [
    "select_data = \"select * from mytable;\"\n",
    "\n",
    "cur.execute(select_data)\n",
    "\n",
    "data = cur.fetchall()"
   ]
  },
  {
   "cell_type": "code",
   "execution_count": 4,
   "metadata": {},
   "outputs": [
    {
     "data": {
      "text/plain": [
       "()"
      ]
     },
     "execution_count": 4,
     "metadata": {},
     "output_type": "execute_result"
    }
   ],
   "source": [
    "data"
   ]
  },
  {
   "cell_type": "code",
   "execution_count": 30,
   "metadata": {},
   "outputs": [
    {
     "ename": "IndexError",
     "evalue": "tuple index out of range",
     "output_type": "error",
     "traceback": [
      "\u001b[1;31m---------------------------------------------------------------------------\u001b[0m",
      "\u001b[1;31mIndexError\u001b[0m                                Traceback (most recent call last)",
      "\u001b[1;32m<ipython-input-30-c6c65f884163>\u001b[0m in \u001b[0;36m<module>\u001b[1;34m()\u001b[0m\n\u001b[1;32m----> 1\u001b[1;33m \u001b[0mdata\u001b[0m\u001b[1;33m[\u001b[0m\u001b[1;36m0\u001b[0m\u001b[1;33m]\u001b[0m\u001b[1;33m[\u001b[0m\u001b[1;36m0\u001b[0m\u001b[1;33m]\u001b[0m\u001b[1;33m\u001b[0m\u001b[0m\n\u001b[0m",
      "\u001b[1;31mIndexError\u001b[0m: tuple index out of range"
     ]
    }
   ],
   "source": [
    "data[0][0]"
   ]
  },
  {
   "cell_type": "code",
   "execution_count": 1,
   "metadata": {},
   "outputs": [
    {
     "name": "stdout",
     "output_type": "stream",
     "text": [
      "Enter database name: jupyterdb\n",
      "Enter table name: mytable\n",
      "Enter your name: jackson\n",
      "Enter your age: 22\n",
      "Error !!!  (1054, \"Unknown column 'jackson' in 'field list'\")\n"
     ]
    }
   ],
   "source": [
    "try :\n",
    "    import pymysql as sql\n",
    "    db_name = input('Enter database name: ')\n",
    "    db = sql.connect(host='localhost', port=3306, user='root', database=db_name)\n",
    "    cur = db.cursor()\n",
    "    table_name = input('Enter table name: ')\n",
    "    cmd = 'select * from {}'.format(table_name)\n",
    "    cur.execute(cmd)\n",
    "    data = cur.fetchall()\n",
    "    if len(data):\n",
    "        print(data)\n",
    "    else:\n",
    "        name = input('Enter your name: ')\n",
    "        age = input('Enter your age: ')\n",
    "        insert_data = \"insert into mytable (name, age) values({}, {})\".format(name, age)\n",
    "        cur.execute(insert_data)\n",
    "        select_data = \"select * from mytable\"\n",
    "        cur.execute(select_data)\n",
    "        data = cur.fetchall()\n",
    "        print(data)\n",
    "except Exception as e :\n",
    "    print(\"Error !!! \", e)"
   ]
  },
  {
   "cell_type": "code",
   "execution_count": 8,
   "metadata": {},
   "outputs": [
    {
     "data": {
      "text/plain": [
       "1"
      ]
     },
     "execution_count": 8,
     "metadata": {},
     "output_type": "execute_result"
    }
   ],
   "source": [
    "insert_data = \"insert into mytable (name, age) values('jackson', '22')\"\n",
    "cur.execute(insert_data)"
   ]
  },
  {
   "cell_type": "code",
   "execution_count": 2,
   "metadata": {},
   "outputs": [
    {
     "data": {
      "text/plain": [
       "()"
      ]
     },
     "execution_count": 2,
     "metadata": {},
     "output_type": "execute_result"
    }
   ],
   "source": [
    "cur.execute('select * from mytable')\n",
    "cur.fetchall()"
   ]
  },
  {
   "cell_type": "code",
   "execution_count": null,
   "metadata": {},
   "outputs": [],
   "source": []
  }
 ],
 "metadata": {
  "kernelspec": {
   "display_name": "Python 3",
   "language": "python",
   "name": "python3"
  },
  "language_info": {
   "codemirror_mode": {
    "name": "ipython",
    "version": 3
   },
   "file_extension": ".py",
   "mimetype": "text/x-python",
   "name": "python",
   "nbconvert_exporter": "python",
   "pygments_lexer": "ipython3",
   "version": "3.7.0"
  }
 },
 "nbformat": 4,
 "nbformat_minor": 2
}
