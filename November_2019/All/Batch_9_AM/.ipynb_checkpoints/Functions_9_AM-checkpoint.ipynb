{
 "cells": [
  {
   "cell_type": "markdown",
   "metadata": {},
   "source": [
    "## Functions in Python\n",
    "\n",
    "#### A function is a block of program statements which can be used repetitively in a program. We creates functions to make re-usable code. Functions in python define with keyword 'def'."
   ]
  },
  {
   "cell_type": "code",
   "execution_count": 1,
   "metadata": {},
   "outputs": [
    {
     "name": "stdout",
     "output_type": "stream",
     "text": [
      "Hello, I am function.\n"
     ]
    }
   ],
   "source": [
    "# A simple function to print any line.\n",
    "# 'def' is keyword to define or create a new function.\n",
    "\n",
    "def myfun():\n",
    "    print('Hello, I am function.')\n",
    "    \n",
    "# to call above function\n",
    "\n",
    "myfun() # function calling"
   ]
  },
  {
   "cell_type": "code",
   "execution_count": 2,
   "metadata": {},
   "outputs": [
    {
     "data": {
      "text/plain": [
       "'Hello, I am returned string.'"
      ]
     },
     "execution_count": 2,
     "metadata": {},
     "output_type": "execute_result"
    }
   ],
   "source": [
    "# A simple function using the 'return' statement\n",
    "\n",
    "def myfun2():\n",
    "    return 'Hello, I am returned string.'\n",
    "\n",
    "# function calling\n",
    "myfun2()"
   ]
  },
  {
   "cell_type": "code",
   "execution_count": 3,
   "metadata": {},
   "outputs": [],
   "source": [
    "# A function calling inside another function\n",
    "\n",
    "def myfun3():\n",
    "    print('I am called inside myfun4()')\n",
    "    \n",
    "def myfun4():\n",
    "    print('I am myfun4() statement.')\n",
    "    \n",
    "    myfun3()"
   ]
  },
  {
   "cell_type": "code",
   "execution_count": 4,
   "metadata": {},
   "outputs": [
    {
     "name": "stdout",
     "output_type": "stream",
     "text": [
      "I am called inside myfun4()\n"
     ]
    }
   ],
   "source": [
    "# myfun3() calling\n",
    "\n",
    "myfun3()"
   ]
  },
  {
   "cell_type": "code",
   "execution_count": 5,
   "metadata": {},
   "outputs": [
    {
     "name": "stdout",
     "output_type": "stream",
     "text": [
      "I am myfun4() statement.\n",
      "I am called inside myfun4()\n"
     ]
    }
   ],
   "source": [
    "# myfun4() calling\n",
    "\n",
    "myfun4()"
   ]
  },
  {
   "cell_type": "code",
   "execution_count": 6,
   "metadata": {},
   "outputs": [
    {
     "name": "stdout",
     "output_type": "stream",
     "text": [
      "11\n"
     ]
    }
   ],
   "source": [
    "# function with arguments\n",
    "\n",
    "def addFun(x, y): # x and y positional argument.\n",
    "    print(x + y)\n",
    "\n",
    "# function calling\n",
    "addFun(5, 6)"
   ]
  },
  {
   "cell_type": "code",
   "execution_count": 7,
   "metadata": {},
   "outputs": [
    {
     "name": "stdout",
     "output_type": "stream",
     "text": [
      "JacksonDas\n"
     ]
    }
   ],
   "source": [
    "addFun('Jackson', 'Das')"
   ]
  },
  {
   "cell_type": "code",
   "execution_count": 8,
   "metadata": {},
   "outputs": [
    {
     "name": "stdout",
     "output_type": "stream",
     "text": [
      "[1, 2, 3, 'a', 'b', 'c']\n"
     ]
    }
   ],
   "source": [
    "addFun([1,2,3], ['a','b','c'])"
   ]
  },
  {
   "cell_type": "code",
   "execution_count": 9,
   "metadata": {},
   "outputs": [
    {
     "name": "stdout",
     "output_type": "stream",
     "text": [
      "[1, 2, 3, 'a', 'b', 'c']\n"
     ]
    }
   ],
   "source": [
    "a = addFun([1,2,3], ['a','b','c'])"
   ]
  },
  {
   "cell_type": "code",
   "execution_count": 10,
   "metadata": {},
   "outputs": [
    {
     "name": "stdout",
     "output_type": "stream",
     "text": [
      "None\n"
     ]
    }
   ],
   "source": [
    "print(a)"
   ]
  },
  {
   "cell_type": "code",
   "execution_count": 11,
   "metadata": {},
   "outputs": [],
   "source": [
    "# return a list from a addList function\n",
    "\n",
    "def addList(x, y):\n",
    "    return x + y\n",
    "\n",
    "a = addList([1,2,3], ['a','b','c'])"
   ]
  },
  {
   "cell_type": "code",
   "execution_count": 12,
   "metadata": {},
   "outputs": [
    {
     "name": "stdout",
     "output_type": "stream",
     "text": [
      "[1, 2, 3, 'a', 'b', 'c']\n"
     ]
    }
   ],
   "source": [
    "print(a)"
   ]
  },
  {
   "cell_type": "code",
   "execution_count": 13,
   "metadata": {},
   "outputs": [
    {
     "data": {
      "text/plain": [
       "list"
      ]
     },
     "execution_count": 13,
     "metadata": {},
     "output_type": "execute_result"
    }
   ],
   "source": [
    "type(a)"
   ]
  },
  {
   "cell_type": "code",
   "execution_count": 24,
   "metadata": {},
   "outputs": [],
   "source": [
    "# default argument\n",
    "\n",
    "def askMe(prompt, retries=4, reminder='Please try again!'):\n",
    "    i = 1\n",
    "    while i < retries:\n",
    "        inp = input(f'You have {retries} chances to enter your password:: ')\n",
    "        if inp != 'jack':\n",
    "            return reminder\n",
    "        else:\n",
    "            break\n",
    "        \n",
    "        i += 1\n",
    "    return prompt"
   ]
  },
  {
   "cell_type": "code",
   "execution_count": 25,
   "metadata": {},
   "outputs": [
    {
     "name": "stdout",
     "output_type": "stream",
     "text": [
      "You have 4 chances to enter your password:: jack\n"
     ]
    },
    {
     "data": {
      "text/plain": [
       "'Yeah, correct'"
      ]
     },
     "execution_count": 25,
     "metadata": {},
     "output_type": "execute_result"
    }
   ],
   "source": [
    "askMe('Yeah, correct')"
   ]
  },
  {
   "cell_type": "code",
   "execution_count": 1,
   "metadata": {},
   "outputs": [
    {
     "name": "stdout",
     "output_type": "stream",
     "text": [
      "Hello User 3\n",
      "<class 'tuple'>\n"
     ]
    }
   ],
   "source": [
    "def myFun(*x):\n",
    "    print(\"Hello \" + x[2])\n",
    "    print(type(x))\n",
    "myFun(\"User 1\", \"User 2\", \"User 3\")"
   ]
  },
  {
   "cell_type": "code",
   "execution_count": 3,
   "metadata": {},
   "outputs": [
    {
     "name": "stdout",
     "output_type": "stream",
     "text": [
      "0 1 2 4 8 \n"
     ]
    }
   ],
   "source": [
    "def fibonacci(x): #Fibonacci series up to n\n",
    "    \n",
    "    \"\"\" this function returns a Fibonacci series \"\"\"\n",
    "    \n",
    "    a = 0\n",
    "    b = 1\n",
    "    \n",
    "    while a < x:\n",
    "        print(a, end=' ')\n",
    "        a = b\n",
    "        b = a + b\n",
    "    \n",
    "\n",
    "    print()\n",
    "\n",
    "# function we defined above\n",
    "fibonacci(10)"
   ]
  },
  {
   "cell_type": "code",
   "execution_count": 4,
   "metadata": {},
   "outputs": [
    {
     "data": {
      "text/plain": [
       "[1, 'a', 5, 'jackson']"
      ]
     },
     "execution_count": 4,
     "metadata": {},
     "output_type": "execute_result"
    }
   ],
   "source": [
    "# write a function to return a list\n",
    "\n",
    "def creatList(*l): # * to take in a variable number of arguments and create l as iteable object\n",
    "    return list(l)\n",
    "\n",
    "creatList(1, 'a', 5, 'jackson')"
   ]
  },
  {
   "cell_type": "code",
   "execution_count": 5,
   "metadata": {},
   "outputs": [],
   "source": [
    "a = creatList('one','two','three','four')"
   ]
  },
  {
   "cell_type": "code",
   "execution_count": 6,
   "metadata": {},
   "outputs": [
    {
     "data": {
      "text/plain": [
       "list"
      ]
     },
     "execution_count": 6,
     "metadata": {},
     "output_type": "execute_result"
    }
   ],
   "source": [
    "type(a)"
   ]
  },
  {
   "cell_type": "code",
   "execution_count": 7,
   "metadata": {},
   "outputs": [
    {
     "name": "stdout",
     "output_type": "stream",
     "text": [
      "['one', 'two', 'three', 'four']\n"
     ]
    }
   ],
   "source": [
    "print(a)"
   ]
  },
  {
   "cell_type": "code",
   "execution_count": 8,
   "metadata": {},
   "outputs": [
    {
     "data": {
      "text/plain": [
       "True"
      ]
     },
     "execution_count": 8,
     "metadata": {},
     "output_type": "execute_result"
    }
   ],
   "source": [
    "list(['one','two','three','four']) == creatList('one','two','three','four')"
   ]
  },
  {
   "cell_type": "code",
   "execution_count": 1,
   "metadata": {},
   "outputs": [
    {
     "data": {
      "text/plain": [
       "{'one': 1, 'two': 2, 'three': 3, 'four': 4}"
      ]
     },
     "execution_count": 1,
     "metadata": {},
     "output_type": "execute_result"
    }
   ],
   "source": [
    "# function to create a dictionary using setdefault()\n",
    "\n",
    "def createDict(key,value):\n",
    "    i = 0\n",
    "    mydict = {}\n",
    "    while i < len(words) :\n",
    "        #print( f\" {words[i]} : {nums[i]}\" )\n",
    "        mydict.setdefault(key[i], value[i])\n",
    "        i += 1\n",
    "    return mydict\n",
    "\n",
    "words = ['one', 'two', 'three', 'four']\n",
    "nums = [1,2,3,4]\n",
    "\n",
    "createDict(words,nums)"
   ]
  },
  {
   "cell_type": "code",
   "execution_count": 2,
   "metadata": {},
   "outputs": [],
   "source": [
    "d = createDict(words,nums)"
   ]
  },
  {
   "cell_type": "code",
   "execution_count": 3,
   "metadata": {},
   "outputs": [
    {
     "name": "stdout",
     "output_type": "stream",
     "text": [
      "{'one': 1, 'two': 2, 'three': 3, 'four': 4}\n"
     ]
    }
   ],
   "source": [
    "print(d)"
   ]
  },
  {
   "cell_type": "code",
   "execution_count": 4,
   "metadata": {},
   "outputs": [
    {
     "data": {
      "text/plain": [
       "dict"
      ]
     },
     "execution_count": 4,
     "metadata": {},
     "output_type": "execute_result"
    }
   ],
   "source": [
    "type(d)"
   ]
  },
  {
   "cell_type": "code",
   "execution_count": 6,
   "metadata": {},
   "outputs": [
    {
     "name": "stdout",
     "output_type": "stream",
     "text": [
      "one 1\n",
      "two 2\n",
      "three 3\n",
      "four 4\n"
     ]
    }
   ],
   "source": [
    "for i,j in d.items():\n",
    "    print(i,j)"
   ]
  },
  {
   "cell_type": "code",
   "execution_count": 11,
   "metadata": {},
   "outputs": [
    {
     "name": "stdout",
     "output_type": "stream",
     "text": [
      "fromkeys --- 'fromkeys'itemskeyspopupdateitemskeyspopupdate\n",
      "items --- fromkeys'items'eysitemskeyspopupdatekeyspopupdate\n",
      "keys --- from'keys'keysitemskeyspopupdateitems'keys'keysitemskeyspopupdatepopupdate\n",
      "pop --- fromkeysitemskeys'pop'mkeysitemskeyspopupdateupdate\n",
      "update --- fromkeysitemskeyspop'update'ysitemskeyspopupdate\n"
     ]
    }
   ],
   "source": [
    "# function to mark found substring\n",
    "\n",
    "def foundStr(s):\n",
    "    i = 0\n",
    "    d_list = dir(dict)\n",
    "\n",
    "    while i < len(d_list) :\n",
    "        if d_list[i] in st :\n",
    "            s = \"'\" + d_list[i] + \"'\" + st[ len(d_list[i]) : 100 ]\n",
    "            print(f\"{ d_list[i] } --- { st.replace( d_list[i], s ) }\")\n",
    "\n",
    "        i += 1\n",
    "st = \"fromkeysitemskeyspopupdate\"\n",
    "\n",
    "f = foundStr(st)"
   ]
  },
  {
   "cell_type": "code",
   "execution_count": 15,
   "metadata": {},
   "outputs": [
    {
     "name": "stdout",
     "output_type": "stream",
     "text": [
      "fromkeys --- itemspopupdate\n",
      "items --- popupdate\n",
      "keys --- itemspopupdate\n",
      "pop --- update\n",
      "update --- \n"
     ]
    }
   ],
   "source": [
    "# function to saperate found substring\n",
    "\n",
    "def sapStr(s):\n",
    "    i = 0\n",
    "    \n",
    "    d_list = dir(dict)\n",
    "\n",
    "    while i < len(d_list) :\n",
    "        if d_list[i] in s :\n",
    "            print(f\"{ d_list[i] } --- { s[ s.find( d_list[i] ) + len( d_list[i] ) : ] }\")\n",
    "        i += 1\n",
    "\n",
    "st = \"fromkeysitemspopupdate\"\n",
    "\n",
    "f = sapStr(st)\n"
   ]
  },
  {
   "cell_type": "code",
   "execution_count": 18,
   "metadata": {},
   "outputs": [
    {
     "name": "stdout",
     "output_type": "stream",
     "text": [
      "Hello, it's me\n",
      "Hello, line \n",
      " break\n",
      "Hello, back \bspace\n"
     ]
    }
   ],
   "source": [
    "## Escape character\n",
    "\n",
    "# \\n - new line, \\t - single tab, \\b - backspace\n",
    "\n",
    "a = \"Hello, it's me\"\n",
    "b = \"Hello, line \\n break\"\n",
    "c = \"Hello, back \\bspace\"\n",
    "\n",
    "print(a)\n",
    "print(b)\n",
    "print(c)"
   ]
  },
  {
   "cell_type": "code",
   "execution_count": 19,
   "metadata": {},
   "outputs": [
    {
     "ename": "SyntaxError",
     "evalue": "EOL while scanning string literal (<ipython-input-19-1d841e339276>, line 4)",
     "output_type": "error",
     "traceback": [
      "\u001b[1;36m  File \u001b[1;32m\"<ipython-input-19-1d841e339276>\"\u001b[1;36m, line \u001b[1;32m4\u001b[0m\n\u001b[1;33m    e = '\\'\u001b[0m\n\u001b[1;37m           ^\u001b[0m\n\u001b[1;31mSyntaxError\u001b[0m\u001b[1;31m:\u001b[0m EOL while scanning string literal\n"
     ]
    }
   ],
   "source": [
    "# escape sequences\n",
    "d = 'hello, it\\'s me'\n",
    "\n",
    "e = '\\' # require one more backslash\n",
    "\n",
    "print(d)\n",
    "print(e)"
   ]
  },
  {
   "cell_type": "code",
   "execution_count": 20,
   "metadata": {},
   "outputs": [
    {
     "name": "stdout",
     "output_type": "stream",
     "text": [
      "\\\n"
     ]
    }
   ],
   "source": [
    "e = '\\\\'\n",
    "print(e)"
   ]
  },
  {
   "cell_type": "code",
   "execution_count": null,
   "metadata": {},
   "outputs": [],
   "source": []
  }
 ],
 "metadata": {
  "kernelspec": {
   "display_name": "Python 3",
   "language": "python",
   "name": "python3"
  },
  "language_info": {
   "codemirror_mode": {
    "name": "ipython",
    "version": 3
   },
   "file_extension": ".py",
   "mimetype": "text/x-python",
   "name": "python",
   "nbconvert_exporter": "python",
   "pygments_lexer": "ipython3",
   "version": "3.7.0"
  }
 },
 "nbformat": 4,
 "nbformat_minor": 2
}
