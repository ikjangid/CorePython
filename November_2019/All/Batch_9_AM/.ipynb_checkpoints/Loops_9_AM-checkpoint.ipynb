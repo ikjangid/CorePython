{
 "cells": [
  {
   "cell_type": "code",
   "execution_count": 31,
   "metadata": {},
   "outputs": [
    {
     "name": "stdout",
     "output_type": "stream",
     "text": [
      "Enter your name please:: ab\n",
      "Re-enter your name:: ab\n",
      "mismatch\n"
     ]
    }
   ],
   "source": [
    "f_in = input('Enter your name please:: ')\n",
    "\n",
    "s_in = input(\"Re-enter your name:: \")\n",
    "\n",
    "if f_in is s_in:\n",
    "    print(f_in, s_in, sep=',')\n",
    "else:\n",
    "    print('mismatch')"
   ]
  },
  {
   "cell_type": "code",
   "execution_count": 4,
   "metadata": {},
   "outputs": [
    {
     "data": {
      "text/plain": [
       "True"
      ]
     },
     "execution_count": 4,
     "metadata": {},
     "output_type": "execute_result"
    }
   ],
   "source": [
    "'jackson' is 'jackson'"
   ]
  },
  {
   "cell_type": "code",
   "execution_count": 16,
   "metadata": {},
   "outputs": [
    {
     "name": "stdout",
     "output_type": "stream",
     "text": [
      "Enter your name please:: jackson\n",
      "Re-enter your name:: das\n",
      "totally mismatch!!\n",
      "Inputs mismatched, please re-enter your name again!!jackson\n",
      "Correct\n"
     ]
    }
   ],
   "source": [
    "f_in = input('Enter your name please:: ')\n",
    "\n",
    "s_in = input(\"Re-enter your name:: \")\n",
    "\n",
    "if f_in == s_in:\n",
    "    print(f_in, s_in, sep=',')\n",
    "else:\n",
    "    f_in_l = len(f_in)\n",
    "    s_in_l = len(s_in)\n",
    "    \n",
    "    if f_in[:s_in_l] != s_in:\n",
    "        print('totally mismatch!!')\n",
    "        s_in = input(\"Inputs mismatched, please re-enter your name again!!\")\n",
    "        \n",
    "        s_in_l = len(s_in)\n",
    "        \n",
    "        if f_in[:s_in_l] == s_in:\n",
    "            print('Correct')\n",
    "    else:\n",
    "        print( f_in[ s_in_l: ] )"
   ]
  },
  {
   "cell_type": "code",
   "execution_count": 9,
   "metadata": {},
   "outputs": [
    {
     "name": "stdout",
     "output_type": "stream",
     "text": [
      "Enter number: 20\n",
      "0\n",
      "2\n",
      "4\n",
      "6\n",
      "8\n",
      "10\n",
      "11\n",
      "13\n",
      "15\n",
      "17\n",
      "19\n",
      "All done!\n"
     ]
    }
   ],
   "source": [
    "i = 0\n",
    "inp = int( input('Enter number: ') )\n",
    "while i < inp:\n",
    "    if i <= 10:\n",
    "        if i % 2 == 0:\n",
    "            print(i)\n",
    "    elif i > 10:\n",
    "        if i % 2:\n",
    "            print(i)\n",
    "    i += 1\n",
    "else:\n",
    "    print(\"All done!\")"
   ]
  },
  {
   "cell_type": "code",
   "execution_count": 11,
   "metadata": {},
   "outputs": [
    {
     "name": "stdout",
     "output_type": "stream",
     "text": [
      "['ajay', 'sachin', 'kapil', 'nikhil', 'rajesh']\n"
     ]
    }
   ],
   "source": [
    "names = ['ajay','sachin','sachin','ajay','kapil','nikhil','rajesh']\n",
    "\n",
    "t_ls = []\n",
    "for x in names:\n",
    "    if x not in t_ls:\n",
    "        t_ls.append(x)\n",
    "\n",
    "print(t_ls)"
   ]
  },
  {
   "cell_type": "code",
   "execution_count": 13,
   "metadata": {},
   "outputs": [
    {
     "name": "stdout",
     "output_type": "stream",
     "text": [
      "24 * 1 = 24\n",
      "\n",
      "24 * 2 = 48\n",
      "\n",
      "24 * 3 = 72\n",
      "\n",
      "24 * 4 = 96\n",
      "\n",
      "24 * 5 = 120\n",
      "\n",
      "24 * 6 = 144\n",
      "\n",
      "24 * 7 = 168\n",
      "\n",
      "24 * 8 = 192\n",
      "\n",
      "24 * 9 = 216\n",
      "\n",
      "50 * 1 = 50\n",
      "\n",
      "50 * 2 = 100\n",
      "\n",
      "50 * 3 = 150\n",
      "\n",
      "50 * 4 = 200\n",
      "\n",
      "50 * 5 = 250\n",
      "\n",
      "50 * 6 = 300\n",
      "\n",
      "50 * 7 = 350\n",
      "\n",
      "50 * 8 = 400\n",
      "\n",
      "50 * 9 = 450\n",
      "\n",
      "29 * 1 = 29\n",
      "\n",
      "29 * 2 = 58\n",
      "\n",
      "29 * 3 = 87\n",
      "\n",
      "29 * 4 = 116\n",
      "\n",
      "29 * 5 = 145\n",
      "\n",
      "29 * 6 = 174\n",
      "\n",
      "29 * 7 = 203\n",
      "\n",
      "29 * 8 = 232\n",
      "\n",
      "29 * 9 = 261\n",
      "\n"
     ]
    }
   ],
   "source": [
    "nums = [24,50,29]\n",
    "\n",
    "for x in nums:\n",
    "    for y in range(1,10):\n",
    "        print(f'{x} * {y} = ' + str( x*y ),sep=\"\",end=\"\\n\\n\")"
   ]
  },
  {
   "cell_type": "code",
   "execution_count": 17,
   "metadata": {},
   "outputs": [
    {
     "name": "stdout",
     "output_type": "stream",
     "text": [
      "enter a number to find factorial: 5\n",
      "5  --->  120\n"
     ]
    }
   ],
   "source": [
    "user_num = int(input(\"enter a number to find factorial: \"))\n",
    " \n",
    "def_fact = 1\n",
    "i = 1\n",
    " \n",
    "while i <= user_num:\n",
    "    def_fact = def_fact * i\n",
    "    i = i + 1\n",
    "\n",
    "print(user_num, \" ---> \", def_fact)"
   ]
  },
  {
   "cell_type": "code",
   "execution_count": 18,
   "metadata": {},
   "outputs": [
    {
     "data": {
      "text/plain": [
       "120"
      ]
     },
     "execution_count": 18,
     "metadata": {},
     "output_type": "execute_result"
    }
   ],
   "source": [
    "1 * 2 * 3 * 4 * 5"
   ]
  },
  {
   "cell_type": "code",
   "execution_count": 22,
   "metadata": {},
   "outputs": [
    {
     "name": "stdout",
     "output_type": "stream",
     "text": [
      "enter limits: 22\n",
      "not\n"
     ]
    }
   ],
   "source": [
    "# prime number\n",
    "user_num = int(input(\"enter limits: \"))\n",
    "\n",
    "for i in range(2, user_num):\n",
    "    if user_num % i == 0:\n",
    "        print('not')\n",
    "        break\n",
    "else:\n",
    "    print('yes')"
   ]
  },
  {
   "cell_type": "code",
   "execution_count": 3,
   "metadata": {},
   "outputs": [
    {
     "name": "stdout",
     "output_type": "stream",
     "text": [
      "enter anything:: jackson\n",
      "j\n",
      "a\n",
      "c\n",
      "k\n",
      "s\n",
      "o\n",
      "n\n"
     ]
    }
   ],
   "source": [
    "inp = input('enter anything:: ')\n",
    "\n",
    "i = 0\n",
    "while i < len(inp):\n",
    "    print(inp[i])\n",
    "    i += 1"
   ]
  },
  {
   "cell_type": "code",
   "execution_count": 27,
   "metadata": {},
   "outputs": [
    {
     "name": "stdout",
     "output_type": "stream",
     "text": [
      "enter anything:: naman\n",
      "Yes, naman is palindrome..\n"
     ]
    }
   ],
   "source": [
    "inp = input('enter anything:: ')\n",
    "\n",
    "i = len(inp) # 7\n",
    "s = []\n",
    "while i > 0:\n",
    "    s.append(inp[i-1])\n",
    "    i -= 1\n",
    "if inp == ''.join(s):\n",
    "    print(f'Yes, {inp} is palindrome..')\n",
    "else:\n",
    "    print(f'No, {inp} is not palindrome..')"
   ]
  },
  {
   "cell_type": "code",
   "execution_count": 18,
   "metadata": {},
   "outputs": [
    {
     "data": {
      "text/plain": [
       "'kcaj'"
      ]
     },
     "execution_count": 18,
     "metadata": {},
     "output_type": "execute_result"
    }
   ],
   "source": [
    "''.join(s)"
   ]
  },
  {
   "cell_type": "code",
   "execution_count": 20,
   "metadata": {},
   "outputs": [
    {
     "data": {
      "text/plain": [
       "True"
      ]
     },
     "execution_count": 20,
     "metadata": {},
     "output_type": "execute_result"
    }
   ],
   "source": [
    "''.join(s) == 'kcaj'"
   ]
  },
  {
   "cell_type": "code",
   "execution_count": 22,
   "metadata": {},
   "outputs": [],
   "source": [
    "if inp == ''.join(s):\n",
    "    print('yes')"
   ]
  },
  {
   "cell_type": "code",
   "execution_count": 28,
   "metadata": {},
   "outputs": [],
   "source": [
    "def pal(s):\n",
    "    i = len(s) # 7\n",
    "    s_l = []\n",
    "    while i > 0:\n",
    "        s_l.append(s[i-1])\n",
    "        i -= 1\n",
    "    if s == ''.join(s_l):\n",
    "        print(f'Yes, {s} is palindrome..')\n",
    "    else:\n",
    "        print(f'No, {s} is not palindrome..')"
   ]
  },
  {
   "cell_type": "code",
   "execution_count": 29,
   "metadata": {},
   "outputs": [
    {
     "name": "stdout",
     "output_type": "stream",
     "text": [
      "Yes, naman is palindrome..\n"
     ]
    }
   ],
   "source": [
    "pal('naman')"
   ]
  },
  {
   "cell_type": "code",
   "execution_count": null,
   "metadata": {},
   "outputs": [],
   "source": []
  }
 ],
 "metadata": {
  "kernelspec": {
   "display_name": "Python 3",
   "language": "python",
   "name": "python3"
  },
  "language_info": {
   "codemirror_mode": {
    "name": "ipython",
    "version": 3
   },
   "file_extension": ".py",
   "mimetype": "text/x-python",
   "name": "python",
   "nbconvert_exporter": "python",
   "pygments_lexer": "ipython3",
   "version": "3.7.0"
  }
 },
 "nbformat": 4,
 "nbformat_minor": 2
}
