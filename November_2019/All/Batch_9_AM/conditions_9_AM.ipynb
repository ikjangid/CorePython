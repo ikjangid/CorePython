{
 "cells": [
  {
   "cell_type": "markdown",
   "metadata": {},
   "source": [
    "## Conditional Statements\n",
    "\n",
    "* if ___ else\n",
    "* if ____ elif ____ else"
   ]
  },
  {
   "cell_type": "code",
   "execution_count": 1,
   "metadata": {},
   "outputs": [],
   "source": [
    "a = 5\n",
    "b = 6\n",
    "\n",
    "if a == b:\n",
    "    print(a)"
   ]
  },
  {
   "cell_type": "code",
   "execution_count": 2,
   "metadata": {},
   "outputs": [
    {
     "name": "stdout",
     "output_type": "stream",
     "text": [
      "6\n"
     ]
    }
   ],
   "source": [
    "if a == b:\n",
    "    print(a)\n",
    "else:\n",
    "    print(b)"
   ]
  },
  {
   "cell_type": "code",
   "execution_count": 3,
   "metadata": {},
   "outputs": [
    {
     "name": "stdout",
     "output_type": "stream",
     "text": [
      "5 6\n"
     ]
    }
   ],
   "source": [
    "if a == b:\n",
    "    print(a)\n",
    "elif a < b:\n",
    "    print(a, b)"
   ]
  },
  {
   "cell_type": "code",
   "execution_count": 4,
   "metadata": {},
   "outputs": [
    {
     "name": "stdout",
     "output_type": "stream",
     "text": [
      "5 6\n"
     ]
    }
   ],
   "source": [
    "if a == b:\n",
    "    print(a)\n",
    "else:\n",
    "    if a < b:\n",
    "        print(a, b)"
   ]
  },
  {
   "cell_type": "code",
   "execution_count": 9,
   "metadata": {},
   "outputs": [
    {
     "name": "stdout",
     "output_type": "stream",
     "text": [
      "False\n"
     ]
    }
   ],
   "source": [
    "if []:\n",
    "    print(True)\n",
    "else:\n",
    "    print(False)"
   ]
  },
  {
   "cell_type": "code",
   "execution_count": 10,
   "metadata": {},
   "outputs": [
    {
     "name": "stdout",
     "output_type": "stream",
     "text": [
      "6\n"
     ]
    }
   ],
   "source": [
    "if a != b:\n",
    "    print(b)\n",
    "else:\n",
    "    print(a)"
   ]
  },
  {
   "cell_type": "code",
   "execution_count": 15,
   "metadata": {},
   "outputs": [
    {
     "name": "stdout",
     "output_type": "stream",
     "text": [
      "Enter your key: 56\n",
      "You entered correct key: 56\n"
     ]
    }
   ],
   "source": [
    "p = \"0002560089\"\n",
    "\n",
    "num = input('Enter your key: ')\n",
    "\n",
    "if p[4:6] == num:\n",
    "    print( f\"You entered correct key: {num}\" )\n",
    "else:\n",
    "    print(\"Invalid key!! Please try again.\")"
   ]
  },
  {
   "cell_type": "code",
   "execution_count": 14,
   "metadata": {},
   "outputs": [
    {
     "data": {
      "text/plain": [
       "'56'"
      ]
     },
     "execution_count": 14,
     "metadata": {},
     "output_type": "execute_result"
    }
   ],
   "source": [
    "p[4:6]"
   ]
  },
  {
   "cell_type": "code",
   "execution_count": 19,
   "metadata": {},
   "outputs": [
    {
     "name": "stdout",
     "output_type": "stream",
     "text": [
      "Enter data name: text\n",
      "Our team supports software development architecture organization outlines eye-getting & familiar online interfaces. Our tremendous staff doing an excellent work and make the sites easy-to use.\n"
     ]
    }
   ],
   "source": [
    "data = {\n",
    "        \"title\" : \"Web Design\",\n",
    "        \"icon\" : \"web-des.webp\",\n",
    "        \"inner\" : '0.webp',\n",
    "        \"cover\" : 'web-des-tech.webp',\n",
    "        \"text\" : \"Our team supports software development architecture organization outlines eye-getting & familiar online interfaces. Our tremendous staff doing an excellent work and make the sites easy-to use.\"\n",
    "    }\n",
    "\n",
    "inp = input('Enter data name: ')\n",
    "\n",
    "if data[inp]:\n",
    "    print(data[inp])\n",
    "else:\n",
    "    print(f'no such data {inp} found.')"
   ]
  },
  {
   "cell_type": "code",
   "execution_count": 49,
   "metadata": {},
   "outputs": [
    {
     "name": "stdout",
     "output_type": "stream",
     "text": [
      "Enter data name: text\n",
      "Our team supports software development architecture organization outlines eye-getting & familiar online interfaces. Our tremendous staff doing an excellent work and make the sites easy-to use.\n"
     ]
    }
   ],
   "source": [
    "inp = input('Enter data name: ')\n",
    "\n",
    "if data[inp]:\n",
    "    if len( data[inp] ) > 100:\n",
    "        print( data[inp].center(100) )\n",
    "    else:\n",
    "        print(data[inp])\n",
    "else:\n",
    "    print(f'no such data {inp} found.')"
   ]
  },
  {
   "cell_type": "code",
   "execution_count": 21,
   "metadata": {},
   "outputs": [
    {
     "name": "stdout",
     "output_type": "stream",
     "text": [
      "Enter data name: text\n",
      "Our team supports software development architecture organization outlines eye-getting & familiar online interfaces. Our tremendous staff doing an excellent work and make the sites easy-to use.\n"
     ]
    }
   ],
   "source": [
    "inp = input('Enter data name: ')\n",
    "\n",
    "if data[inp]:\n",
    "    if len( data[inp] ) > 100:\n",
    "        print( data[inp].center(100) )\n",
    "    else:\n",
    "        print(data[inp])\n",
    "else:\n",
    "    print(f'no such data {inp} found.')"
   ]
  },
  {
   "cell_type": "code",
   "execution_count": 31,
   "metadata": {},
   "outputs": [
    {
     "data": {
      "text/plain": [
       "['Our',\n",
       " 'team',\n",
       " 'supports',\n",
       " 'software',\n",
       " 'development',\n",
       " 'architecture',\n",
       " 'organization',\n",
       " 'outlines',\n",
       " 'eye-getting',\n",
       " '&',\n",
       " 'familiar',\n",
       " 'online',\n",
       " 'interfaces.',\n",
       " 'Our',\n",
       " 'tremendous',\n",
       " 'staff',\n",
       " 'doing',\n",
       " 'an',\n",
       " 'excellent',\n",
       " 'work',\n",
       " 'and',\n",
       " 'make',\n",
       " 'the',\n",
       " 'sites',\n",
       " 'easy-to',\n",
       " 'use.']"
      ]
     },
     "execution_count": 31,
     "metadata": {},
     "output_type": "execute_result"
    }
   ],
   "source": [
    "data['text'].split()"
   ]
  },
  {
   "cell_type": "code",
   "execution_count": 43,
   "metadata": {},
   "outputs": [
    {
     "name": "stdout",
     "output_type": "stream",
     "text": [
      "Enter data name: title list\n"
     ]
    },
    {
     "ename": "KeyError",
     "evalue": "'title list'",
     "output_type": "error",
     "traceback": [
      "\u001b[1;31m---------------------------------------------------------------------------\u001b[0m",
      "\u001b[1;31mKeyError\u001b[0m                                  Traceback (most recent call last)",
      "\u001b[1;32m<ipython-input-43-6ae0491b9667>\u001b[0m in \u001b[0;36m<module>\u001b[1;34m()\u001b[0m\n\u001b[0;32m      1\u001b[0m \u001b[0minp\u001b[0m \u001b[1;33m=\u001b[0m \u001b[0minput\u001b[0m\u001b[1;33m(\u001b[0m\u001b[1;34m'Enter data name: '\u001b[0m\u001b[1;33m)\u001b[0m\u001b[1;33m\u001b[0m\u001b[0m\n\u001b[1;32m----> 2\u001b[1;33m \u001b[0md\u001b[0m \u001b[1;33m=\u001b[0m \u001b[0mdata\u001b[0m\u001b[1;33m[\u001b[0m\u001b[0minp\u001b[0m\u001b[1;33m]\u001b[0m\u001b[1;33m.\u001b[0m\u001b[0msplit\u001b[0m\u001b[1;33m(\u001b[0m\u001b[1;33m)\u001b[0m\u001b[1;33m\u001b[0m\u001b[0m\n\u001b[0m\u001b[0;32m      3\u001b[0m \u001b[1;33m\u001b[0m\u001b[0m\n\u001b[0;32m      4\u001b[0m \u001b[1;32mif\u001b[0m \u001b[0mdata\u001b[0m\u001b[1;33m[\u001b[0m\u001b[0minp\u001b[0m\u001b[1;33m]\u001b[0m\u001b[1;33m:\u001b[0m\u001b[1;33m\u001b[0m\u001b[0m\n\u001b[0;32m      5\u001b[0m     \u001b[1;32mif\u001b[0m \u001b[0mlen\u001b[0m\u001b[1;33m(\u001b[0m \u001b[0md\u001b[0m \u001b[1;33m)\u001b[0m \u001b[1;33m>\u001b[0m \u001b[1;36m10\u001b[0m\u001b[1;33m:\u001b[0m\u001b[1;33m\u001b[0m\u001b[0m\n",
      "\u001b[1;31mKeyError\u001b[0m: 'title list'"
     ]
    }
   ],
   "source": [
    "inp = input('Enter data name: ')\n",
    "d = data[inp].split()\n",
    "\n",
    "if data[inp]:\n",
    "    if len( d ) > 10:\n",
    "        print( ' '.join(d[:9]) + '... view more' )\n",
    "    else:\n",
    "        print(data[inp])\n",
    "else:\n",
    "    print(f'no such data {inp} found.')"
   ]
  },
  {
   "cell_type": "code",
   "execution_count": 51,
   "metadata": {},
   "outputs": [
    {
     "name": "stdout",
     "output_type": "stream",
     "text": [
      "Enter data name: text\n",
      "Our team supports software development architecture organization outlines eye-getting... view more\n"
     ]
    }
   ],
   "source": [
    "inp = input('Enter data name: ')\n",
    "\n",
    "if inp in data :\n",
    "    d = data[inp].split()\n",
    "    if len( d ) > 10:  # this condition will check length of data dynamicly always \n",
    "        print( ' '.join(d[:9]) + '... view more' )\n",
    "    else:\n",
    "        print(data[inp])\n",
    "else:\n",
    "    print(f'no such data {inp} found.')"
   ]
  },
  {
   "cell_type": "code",
   "execution_count": 1,
   "metadata": {},
   "outputs": [
    {
     "name": "stdout",
     "output_type": "stream",
     "text": [
      "Enter data name: \n"
     ]
    },
    {
     "ename": "NameError",
     "evalue": "name 'data' is not defined",
     "output_type": "error",
     "traceback": [
      "\u001b[1;31m---------------------------------------------------------------------------\u001b[0m",
      "\u001b[1;31mNameError\u001b[0m                                 Traceback (most recent call last)",
      "\u001b[1;32m<ipython-input-1-3084a820c67c>\u001b[0m in \u001b[0;36m<module>\u001b[1;34m()\u001b[0m\n\u001b[0;32m      1\u001b[0m \u001b[0minp\u001b[0m \u001b[1;33m=\u001b[0m \u001b[0minput\u001b[0m\u001b[1;33m(\u001b[0m\u001b[1;34m'Enter data name: '\u001b[0m\u001b[1;33m)\u001b[0m\u001b[1;33m\u001b[0m\u001b[0m\n\u001b[0;32m      2\u001b[0m \u001b[1;33m\u001b[0m\u001b[0m\n\u001b[1;32m----> 3\u001b[1;33m \u001b[1;32mif\u001b[0m \u001b[0minp\u001b[0m \u001b[1;32min\u001b[0m \u001b[0mdata\u001b[0m \u001b[1;33m:\u001b[0m\u001b[1;33m\u001b[0m\u001b[0m\n\u001b[0m\u001b[0;32m      4\u001b[0m     \u001b[0md\u001b[0m \u001b[1;33m=\u001b[0m \u001b[0mdata\u001b[0m\u001b[1;33m[\u001b[0m\u001b[0minp\u001b[0m\u001b[1;33m]\u001b[0m\u001b[1;33m.\u001b[0m\u001b[0msplit\u001b[0m\u001b[1;33m(\u001b[0m\u001b[1;33m)\u001b[0m\u001b[1;33m\u001b[0m\u001b[0m\n\u001b[0;32m      5\u001b[0m     \u001b[1;32mif\u001b[0m \u001b[0minp\u001b[0m \u001b[1;32mis\u001b[0m \u001b[1;34m'text'\u001b[0m\u001b[1;33m:\u001b[0m\u001b[1;33m\u001b[0m\u001b[0m\n",
      "\u001b[1;31mNameError\u001b[0m: name 'data' is not defined"
     ]
    }
   ],
   "source": [
    "inp = input('Enter data name: ')\n",
    "\n",
    "if inp in data :\n",
    "    d = data[inp].split()\n",
    "    if inp is 'text':\n",
    "        print( ' '.join(d[:9]) + '... view more' )\n",
    "    else:\n",
    "        print(data[inp])\n",
    "else:\n",
    "    print(f'no such data {inp} found.')"
   ]
  },
  {
   "cell_type": "code",
   "execution_count": 2,
   "metadata": {},
   "outputs": [],
   "source": [
    "main = {\n",
    "    'name' : 'jackson das',\n",
    "    'age' : 20,\n",
    "    'city' : 'Ahmedabad',\n",
    "    'state' : 'Gurajat',\n",
    "    'prof' : 'Employee'\n",
    "}"
   ]
  },
  {
   "cell_type": "code",
   "execution_count": 3,
   "metadata": {},
   "outputs": [
    {
     "name": "stdout",
     "output_type": "stream",
     "text": [
      "Enter item to remove: age\n"
     ]
    }
   ],
   "source": [
    "inp = input('Enter item to remove: ')\n",
    "t = None\n",
    "if inp in main:\n",
    "    d = main.pop(inp)\n",
    "    t.update( {inp : d} )"
   ]
  },
  {
   "cell_type": "code",
   "execution_count": 4,
   "metadata": {},
   "outputs": [
    {
     "data": {
      "text/plain": [
       "{'name': 'jackson das',\n",
       " 'city': 'Ahmedabad',\n",
       " 'state': 'Gurajat',\n",
       " 'prof': 'Employee'}"
      ]
     },
     "execution_count": 4,
     "metadata": {},
     "output_type": "execute_result"
    }
   ],
   "source": [
    "main"
   ]
  },
  {
   "cell_type": "code",
   "execution_count": 5,
   "metadata": {},
   "outputs": [
    {
     "data": {
      "text/plain": [
       "{'age': 20}"
      ]
     },
     "execution_count": 5,
     "metadata": {},
     "output_type": "execute_result"
    }
   ],
   "source": [
    "t"
   ]
  },
  {
   "cell_type": "code",
   "execution_count": 12,
   "metadata": {},
   "outputs": [
    {
     "name": "stdout",
     "output_type": "stream",
     "text": [
      "enter your information: name:jack\n"
     ]
    }
   ],
   "source": [
    "inp = input(\"enter your information: \")\n",
    "\n",
    "f_inp = dict( {inp.split(':')[0] : inp.split(':')[1]} )"
   ]
  },
  {
   "cell_type": "code",
   "execution_count": 13,
   "metadata": {},
   "outputs": [
    {
     "data": {
      "text/plain": [
       "{'name': 'jack'}"
      ]
     },
     "execution_count": 13,
     "metadata": {},
     "output_type": "execute_result"
    }
   ],
   "source": [
    "f_inp"
   ]
  },
  {
   "cell_type": "code",
   "execution_count": 14,
   "metadata": {},
   "outputs": [
    {
     "name": "stdout",
     "output_type": "stream",
     "text": [
      "Enter multiple data saperated by comma: jackson,kapil,ajay,nikhil,anshul\n",
      "['jackson', 'kapil', 'ajay', 'nikhil', 'anshul']\n"
     ]
    }
   ],
   "source": [
    "inp = input('Enter multiple data saperated by comma: ')\n",
    "\n",
    "print( inp.split(',') )"
   ]
  },
  {
   "cell_type": "code",
   "execution_count": 18,
   "metadata": {},
   "outputs": [
    {
     "name": "stdout",
     "output_type": "stream",
     "text": [
      "Enter multiple data saperated by comma: ajay,nikhil\n",
      "Which type of data do you want: list, tuple and set?? Please select.tuple\n",
      "('ajay', 'nikhil')\n",
      "<class 'tuple'>\n"
     ]
    }
   ],
   "source": [
    "inp = input('Enter multiple data saperate by comma: ')\n",
    "\n",
    "inp2 = input('Which type of data do you want: list, tuple and set?? Please select.')\n",
    "\n",
    "f_inp = inp.split(',')\n",
    "\n",
    "t = 0\n",
    "\n",
    "if inp2 == 'tuple':\n",
    "    t = tuple( f_inp )\n",
    "elif inp2 == 'set':\n",
    "    t = set( f_inp )\n",
    "elif inp2 == 'list':\n",
    "    t = f_inp\n",
    "else:\n",
    "    print('wrong!!')\n",
    "    \n",
    "print(t)\n",
    "print(type(t))"
   ]
  },
  {
   "cell_type": "code",
   "execution_count": null,
   "metadata": {},
   "outputs": [],
   "source": []
  }
 ],
 "metadata": {
  "kernelspec": {
   "display_name": "Python 3",
   "language": "python",
   "name": "python3"
  },
  "language_info": {
   "codemirror_mode": {
    "name": "ipython",
    "version": 3
   },
   "file_extension": ".py",
   "mimetype": "text/x-python",
   "name": "python",
   "nbconvert_exporter": "python",
   "pygments_lexer": "ipython3",
   "version": "3.7.0"
  }
 },
 "nbformat": 4,
 "nbformat_minor": 2
}
