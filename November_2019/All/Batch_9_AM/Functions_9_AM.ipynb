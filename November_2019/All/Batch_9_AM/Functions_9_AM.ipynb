{
 "cells": [
  {
   "cell_type": "markdown",
   "metadata": {},
   "source": [
    "## Functions in Python\n",
    "\n",
    "#### A function is a block of program statements which can be used repetitively in a program. We creates functions to make re-usable code. Functions in python define with keyword 'def'."
   ]
  },
  {
   "cell_type": "code",
   "execution_count": 1,
   "metadata": {},
   "outputs": [
    {
     "name": "stdout",
     "output_type": "stream",
     "text": [
      "Hello, I am function.\n"
     ]
    }
   ],
   "source": [
    "# A simple function to print any line.\n",
    "# 'def' is keyword to define or create a new function.\n",
    "\n",
    "def myfun():\n",
    "    print('Hello, I am function.')\n",
    "    \n",
    "# to call above function\n",
    "\n",
    "myfun() # function calling"
   ]
  },
  {
   "cell_type": "code",
   "execution_count": 2,
   "metadata": {},
   "outputs": [
    {
     "data": {
      "text/plain": [
       "'Hello, I am returned string.'"
      ]
     },
     "execution_count": 2,
     "metadata": {},
     "output_type": "execute_result"
    }
   ],
   "source": [
    "# A simple function using the 'return' statement\n",
    "\n",
    "def myfun2():\n",
    "    return 'Hello, I am returned string.'\n",
    "\n",
    "# function calling\n",
    "myfun2()"
   ]
  },
  {
   "cell_type": "code",
   "execution_count": 3,
   "metadata": {},
   "outputs": [],
   "source": [
    "# A function calling inside another function\n",
    "\n",
    "def myfun3():\n",
    "    print('I am called inside myfun4()')\n",
    "    \n",
    "def myfun4():\n",
    "    print('I am myfun4() statement.')\n",
    "    \n",
    "    myfun3()"
   ]
  },
  {
   "cell_type": "code",
   "execution_count": 4,
   "metadata": {},
   "outputs": [
    {
     "name": "stdout",
     "output_type": "stream",
     "text": [
      "I am called inside myfun4()\n"
     ]
    }
   ],
   "source": [
    "# myfun3() calling\n",
    "\n",
    "myfun3()"
   ]
  },
  {
   "cell_type": "code",
   "execution_count": 5,
   "metadata": {},
   "outputs": [
    {
     "name": "stdout",
     "output_type": "stream",
     "text": [
      "I am myfun4() statement.\n",
      "I am called inside myfun4()\n"
     ]
    }
   ],
   "source": [
    "# myfun4() calling\n",
    "\n",
    "myfun4()"
   ]
  },
  {
   "cell_type": "code",
   "execution_count": 6,
   "metadata": {},
   "outputs": [
    {
     "name": "stdout",
     "output_type": "stream",
     "text": [
      "11\n"
     ]
    }
   ],
   "source": [
    "# function with arguments\n",
    "\n",
    "def addFun(x, y): # x and y positional argument.\n",
    "    print(x + y)\n",
    "\n",
    "# function calling\n",
    "addFun(5, 6)"
   ]
  },
  {
   "cell_type": "code",
   "execution_count": 7,
   "metadata": {},
   "outputs": [
    {
     "name": "stdout",
     "output_type": "stream",
     "text": [
      "JacksonDas\n"
     ]
    }
   ],
   "source": [
    "addFun('Jackson', 'Das')"
   ]
  },
  {
   "cell_type": "code",
   "execution_count": 8,
   "metadata": {},
   "outputs": [
    {
     "name": "stdout",
     "output_type": "stream",
     "text": [
      "[1, 2, 3, 'a', 'b', 'c']\n"
     ]
    }
   ],
   "source": [
    "addFun([1,2,3], ['a','b','c'])"
   ]
  },
  {
   "cell_type": "code",
   "execution_count": 9,
   "metadata": {},
   "outputs": [
    {
     "name": "stdout",
     "output_type": "stream",
     "text": [
      "[1, 2, 3, 'a', 'b', 'c']\n"
     ]
    }
   ],
   "source": [
    "a = addFun([1,2,3], ['a','b','c'])"
   ]
  },
  {
   "cell_type": "code",
   "execution_count": 10,
   "metadata": {},
   "outputs": [
    {
     "name": "stdout",
     "output_type": "stream",
     "text": [
      "None\n"
     ]
    }
   ],
   "source": [
    "print(a)"
   ]
  },
  {
   "cell_type": "code",
   "execution_count": 11,
   "metadata": {},
   "outputs": [],
   "source": [
    "# return a list from a addList function\n",
    "\n",
    "def addList(x, y):\n",
    "    return x + y\n",
    "\n",
    "a = addList([1,2,3], ['a','b','c'])"
   ]
  },
  {
   "cell_type": "code",
   "execution_count": 12,
   "metadata": {},
   "outputs": [
    {
     "name": "stdout",
     "output_type": "stream",
     "text": [
      "[1, 2, 3, 'a', 'b', 'c']\n"
     ]
    }
   ],
   "source": [
    "print(a)"
   ]
  },
  {
   "cell_type": "code",
   "execution_count": 13,
   "metadata": {},
   "outputs": [
    {
     "data": {
      "text/plain": [
       "list"
      ]
     },
     "execution_count": 13,
     "metadata": {},
     "output_type": "execute_result"
    }
   ],
   "source": [
    "type(a)"
   ]
  },
  {
   "cell_type": "code",
   "execution_count": 24,
   "metadata": {},
   "outputs": [],
   "source": [
    "# default argument\n",
    "\n",
    "def askMe(prompt, retries=4, reminder='Please try again!'):\n",
    "    i = 1\n",
    "    while i < retries:\n",
    "        inp = input(f'You have {retries} chances to enter your password:: ')\n",
    "        if inp != 'jack':\n",
    "            return reminder\n",
    "        else:\n",
    "            break\n",
    "        \n",
    "        i += 1\n",
    "    return prompt"
   ]
  },
  {
   "cell_type": "code",
   "execution_count": 25,
   "metadata": {},
   "outputs": [
    {
     "name": "stdout",
     "output_type": "stream",
     "text": [
      "You have 4 chances to enter your password:: jack\n"
     ]
    },
    {
     "data": {
      "text/plain": [
       "'Yeah, correct'"
      ]
     },
     "execution_count": 25,
     "metadata": {},
     "output_type": "execute_result"
    }
   ],
   "source": [
    "askMe('Yeah, correct')"
   ]
  },
  {
   "cell_type": "code",
   "execution_count": 1,
   "metadata": {},
   "outputs": [
    {
     "name": "stdout",
     "output_type": "stream",
     "text": [
      "Hello User 3\n",
      "<class 'tuple'>\n"
     ]
    }
   ],
   "source": [
    "def myFun(*x):\n",
    "    print(\"Hello \" + x[2])\n",
    "    print(type(x))\n",
    "myFun(\"User 1\", \"User 2\", \"User 3\")"
   ]
  },
  {
   "cell_type": "code",
   "execution_count": 3,
   "metadata": {},
   "outputs": [
    {
     "name": "stdout",
     "output_type": "stream",
     "text": [
      "0 1 2 4 8 \n"
     ]
    }
   ],
   "source": [
    "def fibonacci(x): #Fibonacci series up to n\n",
    "    \n",
    "    \"\"\" this function returns a Fibonacci series \"\"\"\n",
    "    \n",
    "    a = 0\n",
    "    b = 1\n",
    "    \n",
    "    while a < x:\n",
    "        print(a, end=' ')\n",
    "        a = b\n",
    "        b = a + b\n",
    "    \n",
    "\n",
    "    print()\n",
    "\n",
    "# function we defined above\n",
    "fibonacci(10)"
   ]
  },
  {
   "cell_type": "code",
   "execution_count": 4,
   "metadata": {},
   "outputs": [
    {
     "data": {
      "text/plain": [
       "[1, 'a', 5, 'jackson']"
      ]
     },
     "execution_count": 4,
     "metadata": {},
     "output_type": "execute_result"
    }
   ],
   "source": [
    "# write a function to return a list\n",
    "\n",
    "def creatList(*l): # * to take in a variable number of arguments and create l as iteable object\n",
    "    return list(l)\n",
    "\n",
    "creatList(1, 'a', 5, 'jackson')"
   ]
  },
  {
   "cell_type": "code",
   "execution_count": 5,
   "metadata": {},
   "outputs": [],
   "source": [
    "a = creatList('one','two','three','four')"
   ]
  },
  {
   "cell_type": "code",
   "execution_count": 6,
   "metadata": {},
   "outputs": [
    {
     "data": {
      "text/plain": [
       "list"
      ]
     },
     "execution_count": 6,
     "metadata": {},
     "output_type": "execute_result"
    }
   ],
   "source": [
    "type(a)"
   ]
  },
  {
   "cell_type": "code",
   "execution_count": 7,
   "metadata": {},
   "outputs": [
    {
     "name": "stdout",
     "output_type": "stream",
     "text": [
      "['one', 'two', 'three', 'four']\n"
     ]
    }
   ],
   "source": [
    "print(a)"
   ]
  },
  {
   "cell_type": "code",
   "execution_count": 8,
   "metadata": {},
   "outputs": [
    {
     "data": {
      "text/plain": [
       "True"
      ]
     },
     "execution_count": 8,
     "metadata": {},
     "output_type": "execute_result"
    }
   ],
   "source": [
    "list(['one','two','three','four']) == creatList('one','two','three','four')"
   ]
  },
  {
   "cell_type": "code",
   "execution_count": 1,
   "metadata": {},
   "outputs": [
    {
     "data": {
      "text/plain": [
       "{'one': 1, 'two': 2, 'three': 3, 'four': 4}"
      ]
     },
     "execution_count": 1,
     "metadata": {},
     "output_type": "execute_result"
    }
   ],
   "source": [
    "# function to create a dictionary using setdefault()\n",
    "\n",
    "def createDict(key,value):\n",
    "    i = 0\n",
    "    mydict = {}\n",
    "    while i < len(words) :\n",
    "        #print( f\" {words[i]} : {nums[i]}\" )\n",
    "        mydict.setdefault(key[i], value[i])\n",
    "        i += 1\n",
    "    return mydict\n",
    "\n",
    "words = ['one', 'two', 'three', 'four']\n",
    "nums = [1,2,3,4]\n",
    "\n",
    "createDict(words,nums)"
   ]
  },
  {
   "cell_type": "code",
   "execution_count": 2,
   "metadata": {},
   "outputs": [],
   "source": [
    "d = createDict(words,nums)"
   ]
  },
  {
   "cell_type": "code",
   "execution_count": 3,
   "metadata": {},
   "outputs": [
    {
     "name": "stdout",
     "output_type": "stream",
     "text": [
      "{'one': 1, 'two': 2, 'three': 3, 'four': 4}\n"
     ]
    }
   ],
   "source": [
    "print(d)"
   ]
  },
  {
   "cell_type": "code",
   "execution_count": 4,
   "metadata": {},
   "outputs": [
    {
     "data": {
      "text/plain": [
       "dict"
      ]
     },
     "execution_count": 4,
     "metadata": {},
     "output_type": "execute_result"
    }
   ],
   "source": [
    "type(d)"
   ]
  },
  {
   "cell_type": "code",
   "execution_count": 6,
   "metadata": {},
   "outputs": [
    {
     "name": "stdout",
     "output_type": "stream",
     "text": [
      "one 1\n",
      "two 2\n",
      "three 3\n",
      "four 4\n"
     ]
    }
   ],
   "source": [
    "for i,j in d.items():\n",
    "    print(i,j)"
   ]
  },
  {
   "cell_type": "code",
   "execution_count": 11,
   "metadata": {},
   "outputs": [
    {
     "name": "stdout",
     "output_type": "stream",
     "text": [
      "fromkeys --- 'fromkeys'itemskeyspopupdateitemskeyspopupdate\n",
      "items --- fromkeys'items'eysitemskeyspopupdatekeyspopupdate\n",
      "keys --- from'keys'keysitemskeyspopupdateitems'keys'keysitemskeyspopupdatepopupdate\n",
      "pop --- fromkeysitemskeys'pop'mkeysitemskeyspopupdateupdate\n",
      "update --- fromkeysitemskeyspop'update'ysitemskeyspopupdate\n"
     ]
    }
   ],
   "source": [
    "# function to mark found substring\n",
    "\n",
    "def foundStr(s):\n",
    "    i = 0\n",
    "    d_list = dir(dict)\n",
    "\n",
    "    while i < len(d_list) :\n",
    "        if d_list[i] in st :\n",
    "            s = \"'\" + d_list[i] + \"'\" + st[ len(d_list[i]) : 100 ]\n",
    "            print(f\"{ d_list[i] } --- { st.replace( d_list[i], s ) }\")\n",
    "\n",
    "        i += 1\n",
    "st = \"fromkeysitemskeyspopupdate\"\n",
    "\n",
    "f = foundStr(st)"
   ]
  },
  {
   "cell_type": "code",
   "execution_count": 15,
   "metadata": {},
   "outputs": [
    {
     "name": "stdout",
     "output_type": "stream",
     "text": [
      "fromkeys --- itemspopupdate\n",
      "items --- popupdate\n",
      "keys --- itemspopupdate\n",
      "pop --- update\n",
      "update --- \n"
     ]
    }
   ],
   "source": [
    "# function to saperate found substring\n",
    "\n",
    "def sapStr(s):\n",
    "    i = 0\n",
    "    \n",
    "    d_list = dir(dict)\n",
    "\n",
    "    while i < len(d_list) :\n",
    "        if d_list[i] in s :\n",
    "            print(f\"{ d_list[i] } --- { s[ s.find( d_list[i] ) + len( d_list[i] ) : ] }\")\n",
    "        i += 1\n",
    "\n",
    "st = \"fromkeysitemspopupdate\"\n",
    "\n",
    "f = sapStr(st)\n"
   ]
  },
  {
   "cell_type": "code",
   "execution_count": 18,
   "metadata": {},
   "outputs": [
    {
     "name": "stdout",
     "output_type": "stream",
     "text": [
      "Hello, it's me\n",
      "Hello, line \n",
      " break\n",
      "Hello, back \bspace\n"
     ]
    }
   ],
   "source": [
    "## Escape character\n",
    "\n",
    "# \\n - new line, \\t - single tab, \\b - backspace\n",
    "\n",
    "a = \"Hello, it's me\"\n",
    "b = \"Hello, line \\n break\"\n",
    "c = \"Hello, back \\bspace\"\n",
    "\n",
    "print(a)\n",
    "print(b)\n",
    "print(c)"
   ]
  },
  {
   "cell_type": "code",
   "execution_count": 19,
   "metadata": {},
   "outputs": [
    {
     "ename": "SyntaxError",
     "evalue": "EOL while scanning string literal (<ipython-input-19-1d841e339276>, line 4)",
     "output_type": "error",
     "traceback": [
      "\u001b[1;36m  File \u001b[1;32m\"<ipython-input-19-1d841e339276>\"\u001b[1;36m, line \u001b[1;32m4\u001b[0m\n\u001b[1;33m    e = '\\'\u001b[0m\n\u001b[1;37m           ^\u001b[0m\n\u001b[1;31mSyntaxError\u001b[0m\u001b[1;31m:\u001b[0m EOL while scanning string literal\n"
     ]
    }
   ],
   "source": [
    "# escape sequences\n",
    "d = 'hello, it\\'s me'\n",
    "\n",
    "e = '\\' # require one more backslash\n",
    "\n",
    "print(d)\n",
    "print(e)"
   ]
  },
  {
   "cell_type": "code",
   "execution_count": 20,
   "metadata": {},
   "outputs": [
    {
     "name": "stdout",
     "output_type": "stream",
     "text": [
      "\\\n"
     ]
    }
   ],
   "source": [
    "e = '\\\\'\n",
    "print(e)"
   ]
  },
  {
   "cell_type": "code",
   "execution_count": 1,
   "metadata": {},
   "outputs": [],
   "source": [
    "### import math\n",
    "\n",
    "import math"
   ]
  },
  {
   "cell_type": "code",
   "execution_count": 2,
   "metadata": {},
   "outputs": [
    {
     "name": "stdout",
     "output_type": "stream",
     "text": [
      "['__doc__', '__loader__', '__name__', '__package__', '__spec__', 'acos', 'acosh', 'asin', 'asinh', 'atan', 'atan2', 'atanh', 'ceil', 'copysign', 'cos', 'cosh', 'degrees', 'e', 'erf', 'erfc', 'exp', 'expm1', 'fabs', 'factorial', 'floor', 'fmod', 'frexp', 'fsum', 'gamma', 'gcd', 'hypot', 'inf', 'isclose', 'isfinite', 'isinf', 'isnan', 'ldexp', 'lgamma', 'log', 'log10', 'log1p', 'log2', 'modf', 'nan', 'pi', 'pow', 'radians', 'remainder', 'sin', 'sinh', 'sqrt', 'tan', 'tanh', 'tau', 'trunc']\n"
     ]
    }
   ],
   "source": [
    "print(dir(math))"
   ]
  },
  {
   "cell_type": "code",
   "execution_count": 4,
   "metadata": {},
   "outputs": [
    {
     "name": "stdout",
     "output_type": "stream",
     "text": [
      "3.141592653589793\n"
     ]
    }
   ],
   "source": [
    "print(math.pi)"
   ]
  },
  {
   "cell_type": "code",
   "execution_count": 7,
   "metadata": {},
   "outputs": [
    {
     "name": "stdout",
     "output_type": "stream",
     "text": [
      "8.0\n"
     ]
    }
   ],
   "source": [
    "print(math.pow(2,3))"
   ]
  },
  {
   "cell_type": "code",
   "execution_count": 13,
   "metadata": {},
   "outputs": [
    {
     "name": "stdout",
     "output_type": "stream",
     "text": [
      "-0.9589242746631385\n"
     ]
    }
   ],
   "source": [
    "print(math.sin(5))"
   ]
  },
  {
   "cell_type": "code",
   "execution_count": 14,
   "metadata": {},
   "outputs": [
    {
     "name": "stdout",
     "output_type": "stream",
     "text": [
      "0.28366218546322625\n"
     ]
    }
   ],
   "source": [
    "print(math.cos(5))"
   ]
  },
  {
   "cell_type": "code",
   "execution_count": 15,
   "metadata": {},
   "outputs": [
    {
     "name": "stdout",
     "output_type": "stream",
     "text": [
      "-3.380515006246586\n"
     ]
    }
   ],
   "source": [
    "print(math.tan(5))"
   ]
  },
  {
   "cell_type": "code",
   "execution_count": 16,
   "metadata": {},
   "outputs": [
    {
     "name": "stdout",
     "output_type": "stream",
     "text": [
      "120\n"
     ]
    }
   ],
   "source": [
    "print(math.factorial(5))"
   ]
  },
  {
   "cell_type": "code",
   "execution_count": 18,
   "metadata": {},
   "outputs": [
    {
     "name": "stdout",
     "output_type": "stream",
     "text": [
      "Find x!.\n",
      "\n",
      "Raise a ValueError if x is negative or non-integral.\n"
     ]
    }
   ],
   "source": [
    "print(math.factorial.__doc__)"
   ]
  },
  {
   "cell_type": "code",
   "execution_count": 25,
   "metadata": {},
   "outputs": [
    {
     "name": "stdout",
     "output_type": "stream",
     "text": [
      "5\n"
     ]
    }
   ],
   "source": [
    "print(math.ceil(4.1))"
   ]
  },
  {
   "cell_type": "code",
   "execution_count": 28,
   "metadata": {},
   "outputs": [
    {
     "name": "stdout",
     "output_type": "stream",
     "text": [
      "5\n"
     ]
    }
   ],
   "source": [
    "print(math.floor(5.46))"
   ]
  },
  {
   "cell_type": "code",
   "execution_count": 30,
   "metadata": {},
   "outputs": [
    {
     "name": "stdout",
     "output_type": "stream",
     "text": [
      "1.0\n"
     ]
    }
   ],
   "source": [
    "print(math.fmod(5,2))"
   ]
  },
  {
   "cell_type": "code",
   "execution_count": 31,
   "metadata": {},
   "outputs": [
    {
     "name": "stdout",
     "output_type": "stream",
     "text": [
      "Return fmod(x, y), according to platform C.\n",
      "\n",
      "x % y may differ.\n"
     ]
    }
   ],
   "source": [
    "print(math.fmod.__doc__)"
   ]
  },
  {
   "cell_type": "code",
   "execution_count": 40,
   "metadata": {},
   "outputs": [
    {
     "name": "stdout",
     "output_type": "stream",
     "text": [
      "0.0\n"
     ]
    }
   ],
   "source": [
    "print(math.acos(1))"
   ]
  },
  {
   "cell_type": "code",
   "execution_count": 41,
   "metadata": {},
   "outputs": [
    {
     "name": "stdout",
     "output_type": "stream",
     "text": [
      "Return the arc cosine (measured in radians) of x.\n"
     ]
    }
   ],
   "source": [
    "print(math.acos.__doc__)"
   ]
  },
  {
   "cell_type": "code",
   "execution_count": 42,
   "metadata": {},
   "outputs": [
    {
     "name": "stdout",
     "output_type": "stream",
     "text": [
      "0.08726646259971647\n"
     ]
    }
   ],
   "source": [
    "print(math.radians(5))"
   ]
  },
  {
   "cell_type": "code",
   "execution_count": 47,
   "metadata": {},
   "outputs": [
    {
     "name": "stdout",
     "output_type": "stream",
     "text": [
      "1.5\n"
     ]
    }
   ],
   "source": [
    "print(math.fabs(-1.5))"
   ]
  },
  {
   "cell_type": "code",
   "execution_count": 46,
   "metadata": {},
   "outputs": [
    {
     "name": "stdout",
     "output_type": "stream",
     "text": [
      "Return the absolute value of the float x.\n"
     ]
    }
   ],
   "source": [
    "print(math.fabs.__doc__)"
   ]
  },
  {
   "cell_type": "code",
   "execution_count": 48,
   "metadata": {},
   "outputs": [
    {
     "name": "stdout",
     "output_type": "stream",
     "text": [
      "3.1622776601683795\n"
     ]
    }
   ],
   "source": [
    "print(math.sqrt(10))"
   ]
  },
  {
   "cell_type": "code",
   "execution_count": 50,
   "metadata": {},
   "outputs": [
    {
     "name": "stdout",
     "output_type": "stream",
     "text": [
      "1.0\n"
     ]
    }
   ],
   "source": [
    "print(math.remainder(5,2))"
   ]
  },
  {
   "cell_type": "code",
   "execution_count": 51,
   "metadata": {},
   "outputs": [
    {
     "name": "stdout",
     "output_type": "stream",
     "text": [
      "286.4788975654116\n"
     ]
    }
   ],
   "source": [
    "print(math.degrees(5))"
   ]
  },
  {
   "cell_type": "code",
   "execution_count": 52,
   "metadata": {},
   "outputs": [
    {
     "name": "stdout",
     "output_type": "stream",
     "text": [
      "0.0\n",
      "57.29577951308232\n",
      "114.59155902616465\n",
      "171.88733853924697\n",
      "229.1831180523293\n"
     ]
    }
   ],
   "source": [
    "for i in range(5):\n",
    "    print(math.degrees(i))"
   ]
  },
  {
   "cell_type": "code",
   "execution_count": 53,
   "metadata": {},
   "outputs": [
    {
     "name": "stdout",
     "output_type": "stream",
     "text": [
      "9.75\n"
     ]
    }
   ],
   "source": [
    "# sum of all numbers / total numbers\n",
    "\n",
    "a = [5,6,8,12,6,25,3,13]\n",
    "\n",
    "s = 0\n",
    "for i in a:\n",
    "    s += i\n",
    "\n",
    "# calculate min\n",
    "m = s / len(a)\n",
    "print(m)"
   ]
  },
  {
   "cell_type": "code",
   "execution_count": 54,
   "metadata": {},
   "outputs": [],
   "source": [
    "# function to calculate mean\n",
    "\n",
    "def mean(*n):\n",
    "    sum_of_numbers = 0\n",
    "    for i in n:\n",
    "        sum_of_numbers += i\n",
    "\n",
    "    # calculate mean\n",
    "    mean = sum_of_numbers / len( n )\n",
    "    if len(n) > 1:\n",
    "        return mean\n",
    "    else:\n",
    "        return 'You fool!! One more number required to get mean.'"
   ]
  },
  {
   "cell_type": "code",
   "execution_count": 55,
   "metadata": {},
   "outputs": [
    {
     "data": {
      "text/plain": [
       "9.75"
      ]
     },
     "execution_count": 55,
     "metadata": {},
     "output_type": "execute_result"
    }
   ],
   "source": [
    "mean(5,6,8,12,6,25,3,13)"
   ]
  },
  {
   "cell_type": "code",
   "execution_count": 56,
   "metadata": {},
   "outputs": [],
   "source": [
    "a = mean(5,6,8,12,6,25,3,13)"
   ]
  },
  {
   "cell_type": "code",
   "execution_count": 57,
   "metadata": {},
   "outputs": [
    {
     "name": "stdout",
     "output_type": "stream",
     "text": [
      "9.75\n"
     ]
    }
   ],
   "source": [
    "print(a)"
   ]
  },
  {
   "cell_type": "code",
   "execution_count": 58,
   "metadata": {},
   "outputs": [
    {
     "data": {
      "text/plain": [
       "'You fool!! One more number required to get mean.'"
      ]
     },
     "execution_count": 58,
     "metadata": {},
     "output_type": "execute_result"
    }
   ],
   "source": [
    "mean(5)"
   ]
  },
  {
   "cell_type": "code",
   "execution_count": 74,
   "metadata": {},
   "outputs": [
    {
     "name": "stdout",
     "output_type": "stream",
     "text": [
      "Enter 0st numbers:: 6\n",
      "Enter 1st numbers:: 5\n",
      "Enter 2st numbers:: 1\n",
      "Enter 3st numbers:: 5\n",
      "Enter 4st numbers:: 12\n",
      "Enter 5st numbers:: 36\n",
      "Enter 6st numbers:: 4\n",
      "Enter 7st numbers:: 12\n",
      "Enter 8st numbers:: 32\n",
      "Enter 9st numbers:: 15\n"
     ]
    },
    {
     "data": {
      "text/plain": [
       "12.8"
      ]
     },
     "execution_count": 74,
     "metadata": {},
     "output_type": "execute_result"
    }
   ],
   "source": [
    "## Take 10 numbers from user and calculate mean\n",
    "\n",
    "i = 0\n",
    "l = []\n",
    "while i < 10:\n",
    "    l.append( int( input(f'Enter {i}st numbers:: ') ) )\n",
    "    i+=1\n",
    "\n",
    "mean(*l)"
   ]
  },
  {
   "cell_type": "code",
   "execution_count": 2,
   "metadata": {},
   "outputs": [],
   "source": [
    "# import random function\n",
    "\n",
    "import random"
   ]
  },
  {
   "cell_type": "code",
   "execution_count": 3,
   "metadata": {},
   "outputs": [
    {
     "name": "stdout",
     "output_type": "stream",
     "text": [
      "['BPF', 'LOG4', 'NV_MAGICCONST', 'RECIP_BPF', 'Random', 'SG_MAGICCONST', 'SystemRandom', 'TWOPI', '_BuiltinMethodType', '_MethodType', '_Sequence', '_Set', '__all__', '__builtins__', '__cached__', '__doc__', '__file__', '__loader__', '__name__', '__package__', '__spec__', '_acos', '_bisect', '_ceil', '_cos', '_e', '_exp', '_inst', '_itertools', '_log', '_os', '_pi', '_random', '_sha512', '_sin', '_sqrt', '_test', '_test_generator', '_urandom', '_warn', 'betavariate', 'choice', 'choices', 'expovariate', 'gammavariate', 'gauss', 'getrandbits', 'getstate', 'lognormvariate', 'normalvariate', 'paretovariate', 'randint', 'random', 'randrange', 'sample', 'seed', 'setstate', 'shuffle', 'triangular', 'uniform', 'vonmisesvariate', 'weibullvariate']\n"
     ]
    }
   ],
   "source": [
    "print(dir(random))"
   ]
  },
  {
   "cell_type": "code",
   "execution_count": 24,
   "metadata": {},
   "outputs": [
    {
     "name": "stdout",
     "output_type": "stream",
     "text": [
      "Random variable generators.\n",
      "\n",
      "    integers\n",
      "    --------\n",
      "           uniform within range\n",
      "\n",
      "    sequences\n",
      "    ---------\n",
      "           pick random element\n",
      "           pick random sample\n",
      "           pick weighted random sample\n",
      "           generate random permutation\n",
      "\n",
      "    distributions on the real line:\n",
      "    ------------------------------\n",
      "           uniform\n",
      "           triangular\n",
      "           normal (Gaussian)\n",
      "           lognormal\n",
      "           negative exponential\n",
      "           gamma\n",
      "           beta\n",
      "           pareto\n",
      "           Weibull\n",
      "\n",
      "    distributions on the circle (angles 0 to 2pi)\n",
      "    ---------------------------------------------\n",
      "           circular uniform\n",
      "           von Mises\n",
      "\n",
      "General notes on the underlying Mersenne Twister core generator:\n",
      "\n",
      "* The period is 2**19937-1.\n",
      "* It is one of the most extensively tested generators in existence.\n",
      "* The random() method is implemented in C, executes in a single Python step,\n",
      "  and is, therefore, threadsafe.\n",
      "\n",
      "\n"
     ]
    }
   ],
   "source": [
    "print(random.__doc__)"
   ]
  },
  {
   "cell_type": "code",
   "execution_count": 4,
   "metadata": {},
   "outputs": [
    {
     "name": "stdout",
     "output_type": "stream",
     "text": [
      "9\n"
     ]
    }
   ],
   "source": [
    "print( random.randint(1,10) )"
   ]
  },
  {
   "cell_type": "code",
   "execution_count": 5,
   "metadata": {},
   "outputs": [
    {
     "name": "stdout",
     "output_type": "stream",
     "text": [
      "0\n",
      "1\n",
      "2\n",
      "3\n",
      "4\n",
      "5\n"
     ]
    }
   ],
   "source": [
    "i = 0\n",
    "while i < random.randint(1,10):\n",
    "    print(i)\n",
    "    i += 1"
   ]
  },
  {
   "cell_type": "code",
   "execution_count": 6,
   "metadata": {},
   "outputs": [
    {
     "name": "stdout",
     "output_type": "stream",
     "text": [
      "0\n",
      "1\n",
      "2\n",
      "3\n",
      "4\n",
      "5\n",
      "6\n",
      "7\n"
     ]
    }
   ],
   "source": [
    "i = 0\n",
    "j = random.randint(1,10)\n",
    "\n",
    "while i < j:\n",
    "    print(i)\n",
    "    i += 1"
   ]
  },
  {
   "cell_type": "code",
   "execution_count": 10,
   "metadata": {},
   "outputs": [
    {
     "name": "stdout",
     "output_type": "stream",
     "text": [
      "7\n",
      "0\n",
      "1\n",
      "2\n",
      "3\n",
      "4\n",
      "5\n",
      "6\n",
      "7\n",
      "5\n"
     ]
    }
   ],
   "source": [
    "i = 0\n",
    "j = random.randint(1,10)\n",
    "\n",
    "print(j)\n",
    "while i < j:\n",
    "    print(i)\n",
    "    j = random.randint(1,10)\n",
    "    i += 1\n",
    "print(j)"
   ]
  },
  {
   "cell_type": "code",
   "execution_count": null,
   "metadata": {},
   "outputs": [],
   "source": []
  }
 ],
 "metadata": {
  "kernelspec": {
   "display_name": "Python 3",
   "language": "python",
   "name": "python3"
  },
  "language_info": {
   "codemirror_mode": {
    "name": "ipython",
    "version": 3
   },
   "file_extension": ".py",
   "mimetype": "text/x-python",
   "name": "python",
   "nbconvert_exporter": "python",
   "pygments_lexer": "ipython3",
   "version": "3.7.0"
  }
 },
 "nbformat": 4,
 "nbformat_minor": 2
}
