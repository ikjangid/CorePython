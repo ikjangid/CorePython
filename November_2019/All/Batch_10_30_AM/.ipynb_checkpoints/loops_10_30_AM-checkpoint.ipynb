{
 "cells": [
  {
   "cell_type": "markdown",
   "metadata": {},
   "source": [
    "## Loops\n",
    "\n",
    "* While __ else\n",
    "* For"
   ]
  },
  {
   "cell_type": "code",
   "execution_count": 1,
   "metadata": {},
   "outputs": [
    {
     "name": "stdout",
     "output_type": "stream",
     "text": [
      "hello\n",
      "hello\n",
      "hello\n",
      "hello\n",
      "hello\n",
      "hello\n",
      "hello\n",
      "hello\n",
      "hello\n",
      "hello\n"
     ]
    }
   ],
   "source": [
    "# while __ else\n",
    "\n",
    "i = 0\n",
    "\n",
    "while i < 10:\n",
    "    print('hello')\n",
    "    i += 1"
   ]
  },
  {
   "cell_type": "code",
   "execution_count": 1,
   "metadata": {},
   "outputs": [
    {
     "name": "stdout",
     "output_type": "stream",
     "text": [
      "\n",
      "*\n",
      "**\n",
      "***\n",
      "****\n",
      "*****\n",
      "******\n",
      "*******\n",
      "********\n",
      "*********\n"
     ]
    }
   ],
   "source": [
    "i = 0\n",
    "\n",
    "while i < 10:\n",
    "    print('*' * i)\n",
    "    i += 1"
   ]
  },
  {
   "cell_type": "code",
   "execution_count": 2,
   "metadata": {},
   "outputs": [
    {
     "name": "stdout",
     "output_type": "stream",
     "text": [
      " one : 1\n",
      " two : 2\n",
      " three : 3\n",
      " four : 4\n"
     ]
    }
   ],
   "source": [
    "words = ['one', 'two', 'three', 'four']\n",
    "nums = [1,2,3,4]\n",
    "\n",
    "i = 0\n",
    "\n",
    "while i < len(words) :\n",
    "    print( f\" {words[i]} : {nums[i]}\" )\n",
    "    i += 1"
   ]
  },
  {
   "cell_type": "code",
   "execution_count": 13,
   "metadata": {},
   "outputs": [
    {
     "name": "stdout",
     "output_type": "stream",
     "text": [
      "{'one': 1, 'two': 2, 'three': 3, 'four': 4}\n"
     ]
    }
   ],
   "source": [
    "words = ['one', 'two', 'three', 'four']\n",
    "nums = [1,2,3,4]\n",
    "\n",
    "i = 0\n",
    "mydict = {}\n",
    "while i < len(words) :\n",
    "    #print( f\" {words[i]} : {nums[i]}\" )\n",
    "    mydict.setdefault(words[i], nums[i])\n",
    "    i += 1\n",
    "print(mydict)"
   ]
  },
  {
   "cell_type": "code",
   "execution_count": 6,
   "metadata": {},
   "outputs": [],
   "source": [
    "mydict = {}"
   ]
  },
  {
   "cell_type": "code",
   "execution_count": 4,
   "metadata": {},
   "outputs": [
    {
     "data": {
      "text/plain": [
       "dict"
      ]
     },
     "execution_count": 4,
     "metadata": {},
     "output_type": "execute_result"
    }
   ],
   "source": [
    "type(mydict)"
   ]
  },
  {
   "cell_type": "code",
   "execution_count": 8,
   "metadata": {},
   "outputs": [
    {
     "data": {
      "text/plain": [
       "{'o': '1', 'n': '1', 'e': '1'}"
      ]
     },
     "execution_count": 8,
     "metadata": {},
     "output_type": "execute_result"
    }
   ],
   "source": [
    "mydict.fromkeys('one','1')"
   ]
  },
  {
   "cell_type": "code",
   "execution_count": 12,
   "metadata": {},
   "outputs": [],
   "source": [
    "mydict.clear()"
   ]
  },
  {
   "cell_type": "code",
   "execution_count": 10,
   "metadata": {},
   "outputs": [
    {
     "data": {
      "text/plain": [
       "'1'"
      ]
     },
     "execution_count": 10,
     "metadata": {},
     "output_type": "execute_result"
    }
   ],
   "source": [
    "mydict.setdefault('one', '1')"
   ]
  },
  {
   "cell_type": "code",
   "execution_count": 11,
   "metadata": {},
   "outputs": [
    {
     "data": {
      "text/plain": [
       "{'one': '1'}"
      ]
     },
     "execution_count": 11,
     "metadata": {},
     "output_type": "execute_result"
    }
   ],
   "source": [
    "mydict"
   ]
  },
  {
   "cell_type": "code",
   "execution_count": 14,
   "metadata": {},
   "outputs": [
    {
     "name": "stdout",
     "output_type": "stream",
     "text": [
      "['__class__', '__contains__', '__delattr__', '__delitem__', '__dir__', '__doc__', '__eq__', '__format__', '__ge__', '__getattribute__', '__getitem__', '__gt__', '__hash__', '__init__', '__init_subclass__', '__iter__', '__le__', '__len__', '__lt__', '__ne__', '__new__', '__reduce__', '__reduce_ex__', '__repr__', '__setattr__', '__setitem__', '__sizeof__', '__str__', '__subclasshook__', 'clear', 'copy', 'fromkeys', 'get', 'items', 'keys', 'pop', 'popitem', 'setdefault', 'update', 'values']\n"
     ]
    }
   ],
   "source": [
    "print(dir(mydict))"
   ]
  },
  {
   "cell_type": "code",
   "execution_count": 18,
   "metadata": {},
   "outputs": [
    {
     "name": "stdout",
     "output_type": "stream",
     "text": [
      "fromkeys is available in fromkeysitemskeyspopupdate\n",
      "items is available in fromkeysitemskeyspopupdate\n",
      "keys is available in fromkeysitemskeyspopupdate\n",
      "pop is available in fromkeysitemskeyspopupdate\n",
      "update is available in fromkeysitemskeyspopupdate\n"
     ]
    }
   ],
   "source": [
    "i = 0\n",
    "st = \"fromkeysitemskeyspopupdate\"\n",
    "d_list = dir(mydict)\n",
    "\n",
    "while i < len(d_list) :\n",
    "    if d_list[i] in st :\n",
    "        print(f\"{d_list[i] is available in {st}\")\n",
    "        \n",
    "    i += 1"
   ]
  },
  {
   "cell_type": "code",
   "execution_count": 20,
   "metadata": {},
   "outputs": [
    {
     "name": "stdout",
     "output_type": "stream",
     "text": [
      "keys012itemskeyspopupdate\n"
     ]
    }
   ],
   "source": [
    "print( f\"{st.replace('fromkeys', 'keys012')}\" )"
   ]
  },
  {
   "cell_type": "code",
   "execution_count": 28,
   "metadata": {},
   "outputs": [
    {
     "name": "stdout",
     "output_type": "stream",
     "text": [
      "fromkeys --- 'fromkeys'itemspopupdateitemspopupdate\n",
      "items --- fromkeys'items'eysitemspopupdatepopupdate\n",
      "keys --- from'keys'keysitemspopupdateitemspopupdate\n",
      "pop --- fromkeysitems'pop'mkeysitemspopupdateupdate\n",
      "update --- fromkeysitemspop'update'ysitemspopupdate\n"
     ]
    }
   ],
   "source": [
    "i = 0\n",
    "st = \"fromkeysitemspopupdate\"\n",
    "d_list = dir(mydict)\n",
    "\n",
    "while i < len(d_list) :\n",
    "    if d_list[i] in st :\n",
    "        s = \"'\" + d_list[i] + \"'\" + st[ len(d_list[i]) : 100 ]\n",
    "        print(f\"{ d_list[i] } --- { st.replace( d_list[i], s ) }\")\n",
    "        #print(s)\n",
    "    i += 1"
   ]
  },
  {
   "cell_type": "code",
   "execution_count": 35,
   "metadata": {},
   "outputs": [
    {
     "data": {
      "text/plain": [
       "8"
      ]
     },
     "execution_count": 35,
     "metadata": {},
     "output_type": "execute_result"
    }
   ],
   "source": [
    "st.find('items')"
   ]
  },
  {
   "cell_type": "code",
   "execution_count": 36,
   "metadata": {},
   "outputs": [
    {
     "name": "stdout",
     "output_type": "stream",
     "text": [
      "fromkeys --- itemspopupdate\n",
      "items --- popupdate\n",
      "keys --- itemspopupdate\n",
      "pop --- update\n",
      "update --- \n"
     ]
    }
   ],
   "source": [
    "i = 0\n",
    "st = \"fromkeysitemspopupdate\"\n",
    "d_list = dir(mydict)\n",
    "\n",
    "while i < len(d_list) :\n",
    "    if d_list[i] in st :\n",
    "        print(f\"{ d_list[i] } --- { st[ st.find( d_list[i] ) + len( d_list[i] ) : ] }\")\n",
    "    i += 1"
   ]
  },
  {
   "cell_type": "code",
   "execution_count": 3,
   "metadata": {},
   "outputs": [
    {
     "name": "stdout",
     "output_type": "stream",
     "text": [
      "2 is even.\n",
      "4 is even.\n",
      "6 is even.\n",
      "8 is even.\n",
      "10 is even.\n",
      "12 is even.\n",
      "14 is even.\n",
      "16 is even.\n",
      "18 is even.\n",
      "20 is even.\n"
     ]
    }
   ],
   "source": [
    "i = 1\n",
    "\n",
    "while i <= 20:\n",
    "    if i % 2 == 0 :\n",
    "        print(f\"{i} is even.\")\n",
    "    i += 1"
   ]
  },
  {
   "cell_type": "code",
   "execution_count": 9,
   "metadata": {},
   "outputs": [
    {
     "name": "stdout",
     "output_type": "stream",
     "text": [
      "2 is even.\n",
      "4 is even.\n",
      "6 is even.\n",
      "8 is even.\n",
      "10 is even.\n",
      "11 is odd.\n",
      "13 is odd.\n",
      "15 is odd.\n",
      "17 is odd.\n",
      "19 is odd.\n",
      "All is done.\n"
     ]
    }
   ],
   "source": [
    "i = 1\n",
    "\n",
    "while i <= 20:\n",
    "    if i <= 10:\n",
    "        if i % 2 == 0:\n",
    "            print(f\"{i} is even.\")\n",
    "    elif i > 10 :\n",
    "        if i % 2 != 0:\n",
    "            print(f\"{i} is odd.\")\n",
    "    i += 1\n",
    "else:\n",
    "    print('All is done.')"
   ]
  },
  {
   "cell_type": "code",
   "execution_count": 11,
   "metadata": {},
   "outputs": [
    {
     "name": "stdout",
     "output_type": "stream",
     "text": [
      "1\n",
      "2\n",
      "3\n",
      "4\n",
      "5\n",
      "6\n",
      "7\n",
      "8\n",
      "9\n",
      "10\n"
     ]
    }
   ],
   "source": [
    "i = 1\n",
    "\n",
    "while i <= 20:\n",
    "    print(i)\n",
    "    \n",
    "    if i == 10 :\n",
    "        break\n",
    "        \n",
    "    i += 1"
   ]
  },
  {
   "cell_type": "code",
   "execution_count": 3,
   "metadata": {},
   "outputs": [
    {
     "name": "stdout",
     "output_type": "stream",
     "text": [
      "10\n",
      "21\n"
     ]
    }
   ],
   "source": [
    "i = 1\n",
    "\n",
    "while i <= 20:\n",
    "    \n",
    "    if i == 10 :\n",
    "        print(i)\n",
    "        i = 11\n",
    "        continue\n",
    "        \n",
    "    i += 1\n",
    "else:\n",
    "    print(i)"
   ]
  },
  {
   "cell_type": "code",
   "execution_count": null,
   "metadata": {},
   "outputs": [],
   "source": []
  }
 ],
 "metadata": {
  "kernelspec": {
   "display_name": "Python 3",
   "language": "python",
   "name": "python3"
  },
  "language_info": {
   "codemirror_mode": {
    "name": "ipython",
    "version": 3
   },
   "file_extension": ".py",
   "mimetype": "text/x-python",
   "name": "python",
   "nbconvert_exporter": "python",
   "pygments_lexer": "ipython3",
   "version": "3.7.0"
  }
 },
 "nbformat": 4,
 "nbformat_minor": 2
}
