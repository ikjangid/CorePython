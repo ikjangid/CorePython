{
 "cells": [
  {
   "cell_type": "markdown",
   "metadata": {},
   "source": [
    "## if ... else, if .. elif .. else"
   ]
  },
  {
   "cell_type": "code",
   "execution_count": 1,
   "metadata": {},
   "outputs": [
    {
     "name": "stdout",
     "output_type": "stream",
     "text": [
      "Enter your name:    k a pi l   \n",
      "Enter your age: 18\n",
      "Congrats, Kapil!! You are eligible to get your driving license.\n",
      "Please, submit required documents as shown below.\n",
      "Required documents:  aadhar, marksheet, passport\n",
      "Enter the name of submitted document: aadhar\n",
      "Your application submitted successfully.\n",
      "Name: Kapil\n",
      "Age: 18\n",
      "Submitted document: aadhar\n"
     ]
    }
   ],
   "source": [
    "# if else\n",
    "\n",
    "name = input('Enter your name: ')\n",
    "\n",
    "name = ''.join( name.split() )\n",
    "\n",
    "name = name.capitalize()\n",
    "\n",
    "age = int(input('Enter your age: '))\n",
    "\n",
    "req_doc = ['aadhar','marksheet','passport']\n",
    "\n",
    "if age >= 18:\n",
    "    print(f\"Congrats, {name}!! You are eligible to get your driving license.\", \"Please, submit required documents as shown below.\", sep=\"\\n\")\n",
    "    \n",
    "    print( 'Required documents: ', ', '.join(req_doc) )\n",
    "    \n",
    "    sub_doc = input('Enter the name of submitted document: ')\n",
    "    \n",
    "    if sub_doc in req_doc:\n",
    "        print(\"Your application submitted successfully.\")\n",
    "        print(f\"Name: {name}\\nAge: {age}\\nSubmitted document: {sub_doc}\")\n",
    "    else:\n",
    "        print(\"This document is not valid! Please, check the required documents and try again later.\")\n",
    "else:\n",
    "    print('')"
   ]
  },
  {
   "cell_type": "code",
   "execution_count": 1,
   "metadata": {},
   "outputs": [
    {
     "name": "stdout",
     "output_type": "stream",
     "text": [
      "enter your name:: Kapil\n",
      "re-enter your name:: Kap\n",
      "Kapil and Kap matched\n"
     ]
    }
   ],
   "source": [
    "name = input('enter your name:: ')\n",
    "re_name = input('re-enter your name:: ')\n",
    "\n",
    "name = ''.join( name.split() )\n",
    "re_name = ''.join( re_name.split() )\n",
    "\n",
    "if re_name in name:\n",
    "    print(f\"{name} and {re_name} matched\")\n",
    "else:\n",
    "    print(\"please enter your name correctly.\")"
   ]
  },
  {
   "cell_type": "code",
   "execution_count": 3,
   "metadata": {},
   "outputs": [
    {
     "name": "stdout",
     "output_type": "stream",
     "text": [
      "enter number 0-95\n",
      "5 found and positioned at:: 2\n"
     ]
    }
   ],
   "source": [
    "l = [2,3,5,8,1,0,7,6,4,9]\n",
    "\n",
    "num = int(input('enter number 0-9'))\n",
    "\n",
    "if num in l:\n",
    "    ind = l.index(num)\n",
    "    print(f\"{num} found and positioned at:: {ind}\")\n",
    "else:\n",
    "    print(f'no such {num} number found in our list.')"
   ]
  },
  {
   "cell_type": "code",
   "execution_count": 4,
   "metadata": {},
   "outputs": [
    {
     "name": "stdout",
     "output_type": "stream",
     "text": [
      "enter your name:: kapil\n",
      "re-enter your name:: kap\n",
      "please enter your name correctly.\n"
     ]
    }
   ],
   "source": [
    "name = input('enter your name:: ')\n",
    "re_name = input('re-enter your name:: ')\n",
    "\n",
    "name = ''.join( name.split() )\n",
    "re_name = ''.join( re_name.split() )\n",
    "\n",
    "if re_name is name:\n",
    "    print(f\"{name} and {re_name} matched\")\n",
    "else:\n",
    "    print(\"please enter your name correctly.\")"
   ]
  },
  {
   "cell_type": "code",
   "execution_count": 16,
   "metadata": {},
   "outputs": [
    {
     "name": "stdout",
     "output_type": "stream",
     "text": [
      "enter number 0-9122\n",
      "no such 122 number found in our list.\n"
     ]
    }
   ],
   "source": [
    "# even or odd\n",
    "\n",
    "l = [2,3,5,8,1,0,7,6,4,9]\n",
    "\n",
    "num = int(input('enter number 0-9:: '))\n",
    "\n",
    "if num in l:\n",
    "    if num % 2 == 0:\n",
    "        print(f\"{num} is even\")\n",
    "    else:\n",
    "        print(f'{num} is odd')\n",
    "else:\n",
    "    print(f'no such {num} number found in our list.')"
   ]
  },
  {
   "cell_type": "code",
   "execution_count": 19,
   "metadata": {},
   "outputs": [
    {
     "name": "stdout",
     "output_type": "stream",
     "text": [
      "enter any number:: -9\n",
      "-9 real\n"
     ]
    }
   ],
   "source": [
    "# real number\n",
    "\n",
    "num = int(input('enter any number:: '))\n",
    "\n",
    "if num < 0 or num >= 0:\n",
    "    print(f\"{num} real\")\n",
    "else:\n",
    "    print(f'{num} is not real')"
   ]
  },
  {
   "cell_type": "code",
   "execution_count": null,
   "metadata": {},
   "outputs": [],
   "source": []
  }
 ],
 "metadata": {
  "kernelspec": {
   "display_name": "Python 3",
   "language": "python",
   "name": "python3"
  },
  "language_info": {
   "codemirror_mode": {
    "name": "ipython",
    "version": 3
   },
   "file_extension": ".py",
   "mimetype": "text/x-python",
   "name": "python",
   "nbconvert_exporter": "python",
   "pygments_lexer": "ipython3",
   "version": "3.7.0"
  }
 },
 "nbformat": 4,
 "nbformat_minor": 2
}
