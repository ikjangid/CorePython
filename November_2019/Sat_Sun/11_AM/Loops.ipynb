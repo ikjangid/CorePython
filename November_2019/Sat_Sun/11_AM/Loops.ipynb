{
 "cells": [
  {
   "cell_type": "markdown",
   "metadata": {},
   "source": [
    "# Loop in python\n",
    "\n",
    "* While __ else\n",
    "* For"
   ]
  },
  {
   "cell_type": "code",
   "execution_count": 1,
   "metadata": {},
   "outputs": [
    {
     "name": "stdout",
     "output_type": "stream",
     "text": [
      "0\n",
      "1\n",
      "2\n",
      "3\n",
      "4\n",
      "5\n",
      "6\n",
      "7\n",
      "8\n",
      "9\n"
     ]
    }
   ],
   "source": [
    "# while __ else\n",
    "\n",
    "i = 0\n",
    "\n",
    "while i < 10:\n",
    "    print( i )\n",
    "    i += 1"
   ]
  },
  {
   "cell_type": "code",
   "execution_count": 2,
   "metadata": {},
   "outputs": [
    {
     "name": "stdout",
     "output_type": "stream",
     "text": [
      "2\n",
      "4\n",
      "6\n",
      "8\n",
      "10\n"
     ]
    }
   ],
   "source": [
    "i = 1\n",
    "\n",
    "while i <= 10:\n",
    "    if i % 2 == 0: # check weather i even or not\n",
    "        print( i )\n",
    "    i += 1"
   ]
  },
  {
   "cell_type": "code",
   "execution_count": 3,
   "metadata": {},
   "outputs": [
    {
     "name": "stdout",
     "output_type": "stream",
     "text": [
      "*\n",
      "**\n",
      "***\n",
      "****\n",
      "*****\n",
      "******\n",
      "*******\n",
      "********\n",
      "*********\n",
      "**********\n"
     ]
    }
   ],
   "source": [
    "# triangle\n",
    "\n",
    "i = 1\n",
    "\n",
    "while i <= 10:\n",
    "    print( '*' * i )\n",
    "    i += 1"
   ]
  },
  {
   "cell_type": "code",
   "execution_count": 4,
   "metadata": {},
   "outputs": [
    {
     "name": "stdout",
     "output_type": "stream",
     "text": [
      "         * \n",
      "        * * \n",
      "       * * * \n",
      "      * * * * \n",
      "     * * * * * \n",
      "    * * * * * * \n",
      "   * * * * * * * \n",
      "  * * * * * * * * \n",
      " * * * * * * * * * \n",
      "* * * * * * * * * * \n"
     ]
    }
   ],
   "source": [
    "i = 1\n",
    "\n",
    "while i <= 10:\n",
    "    print( ' ' * (10 - i) + '* ' * i )\n",
    "    i += 1"
   ]
  },
  {
   "cell_type": "code",
   "execution_count": 5,
   "metadata": {},
   "outputs": [
    {
     "name": "stdout",
     "output_type": "stream",
     "text": [
      " name : hitesh\n",
      " age : 34\n",
      " city : ahmedabad\n",
      " state : gujarat\n"
     ]
    }
   ],
   "source": [
    "key = ['name', 'age', 'city', 'state']\n",
    "val = ['hitesh',34,'ahmedabad','gujarat']\n",
    "\n",
    "i = 0\n",
    "\n",
    "while i < len(key) :\n",
    "    print( f\" { key[i] } : { val[i] }\" )\n",
    "    i += 1"
   ]
  },
  {
   "cell_type": "code",
   "execution_count": 6,
   "metadata": {},
   "outputs": [
    {
     "name": "stdout",
     "output_type": "stream",
     "text": [
      "{'name': 'hitesh', 'age': 34, 'city': 'ahmedabad', 'state': 'gujarat'}\n"
     ]
    }
   ],
   "source": [
    "key = ['name', 'age', 'city', 'state']\n",
    "val = ['hitesh',34,'ahmedabad','gujarat']\n",
    "\n",
    "i = 0\n",
    "mydict = {}\n",
    "\n",
    "while i < len(key) :\n",
    "    mydict.setdefault(key[i], val[i])\n",
    "    i += 1\n",
    "    \n",
    "print(mydict)"
   ]
  },
  {
   "cell_type": "code",
   "execution_count": 8,
   "metadata": {},
   "outputs": [
    {
     "name": "stdout",
     "output_type": "stream",
     "text": [
      "hitesh is available in abcdefghishahjklmnhiteshopqrstuvwxyz\n",
      "shah is available in abcdefghishahjklmnhiteshopqrstuvwxyz\n"
     ]
    }
   ],
   "source": [
    "st = \"abcdefghishahjklmnhiteshopqrstuvwxyz\"\n",
    "\n",
    "keyword = ['hitesh','shah']\n",
    "\n",
    "i = 0\n",
    "\n",
    "while i < len(keyword) :\n",
    "    if keyword[i] in st :\n",
    "        print( f\"{ keyword[i] } is available in { st }\" )\n",
    "\n",
    "    i += 1"
   ]
  },
  {
   "cell_type": "code",
   "execution_count": 9,
   "metadata": {},
   "outputs": [
    {
     "name": "stdout",
     "output_type": "stream",
     "text": [
      "hitesh --- abcdefghishahjklmn'hitesh'ghishahjklmnhiteshopqrstuvwxyzopqrstuvwxyz\n",
      "shah --- abcdefghi'shah'efghishahjklmnhiteshopqrstuvwxyzjklmnhiteshopqrstuvwxyz\n"
     ]
    }
   ],
   "source": [
    "i = 0\n",
    "\n",
    "while i < len(keyword) :\n",
    "    if keyword[i] in st :\n",
    "        s = \"'\" + keyword[i] + \"'\" + st[ len( keyword[i] ) : 100 ]\n",
    "        print( f\"{ keyword[i] } --- { st.replace( keyword[i], s ) }\")\n",
    "    i += 1"
   ]
  },
  {
   "cell_type": "code",
   "execution_count": 11,
   "metadata": {},
   "outputs": [
    {
     "name": "stdout",
     "output_type": "stream",
     "text": [
      "hitesh --- opqrstuvwxyz\n",
      "shah --- jklmnhiteshopqrstuvwxyz\n"
     ]
    }
   ],
   "source": [
    "i = 0\n",
    "while i < len(keyword) :\n",
    "    if keyword[i] in st :\n",
    "        print(f\"{ keyword[i] } --- { st[ st.find( keyword[i] ) + len( keyword[i] ) : ] }\")\n",
    "    i += 1"
   ]
  },
  {
   "cell_type": "code",
   "execution_count": 14,
   "metadata": {},
   "outputs": [
    {
     "name": "stdout",
     "output_type": "stream",
     "text": [
      "2 is even.\n",
      "4 is even.\n",
      "6 is even.\n",
      "8 is even.\n",
      "10 is even.\n",
      "12 is even.\n",
      "14 is even.\n",
      "16 is even.\n",
      "18 is even.\n",
      "20 is even.\n",
      "All done.\n"
     ]
    }
   ],
   "source": [
    "i = 1\n",
    "\n",
    "while i <= 20:\n",
    "    if i % 2 == 0 :\n",
    "        print(f\"{i} is even.\")\n",
    "    i += 1\n",
    "else:\n",
    "    print('All done.')"
   ]
  },
  {
   "cell_type": "code",
   "execution_count": 15,
   "metadata": {},
   "outputs": [
    {
     "name": "stdout",
     "output_type": "stream",
     "text": [
      "Enter your name please:: hitesh\n",
      "Re-enter your name:: hit\n",
      "esh\n"
     ]
    }
   ],
   "source": [
    "f_in = input('Enter your name please:: ')\n",
    "\n",
    "s_in = input(\"Re-enter your name:: \")\n",
    "\n",
    "if f_in == s_in:\n",
    "    print(f_in, s_in, sep=',')\n",
    "else:\n",
    "    f_in_l = len(f_in)\n",
    "    s_in_l = len(s_in)\n",
    "    \n",
    "    if f_in[:s_in_l] != s_in:\n",
    "        print('totally mismatch!!')\n",
    "        s_in = input(\"Inputs mismatched, please re-enter your name again!!\")\n",
    "        \n",
    "        s_in_l = len(s_in)\n",
    "        \n",
    "        if f_in[:s_in_l] == s_in:\n",
    "            print('Correct')\n",
    "    else:\n",
    "        print( f_in[ s_in_l: ] )"
   ]
  },
  {
   "cell_type": "code",
   "execution_count": 16,
   "metadata": {},
   "outputs": [
    {
     "name": "stdout",
     "output_type": "stream",
     "text": [
      "Enter number: 20\n",
      "0\n",
      "2\n",
      "4\n",
      "6\n",
      "8\n",
      "10\n",
      "11\n",
      "13\n",
      "15\n",
      "17\n",
      "19\n",
      "All done!\n"
     ]
    }
   ],
   "source": [
    "i = 0\n",
    "inp = int( input('Enter number: ') )\n",
    "\n",
    "while i < inp:\n",
    "    if i <= 10:\n",
    "        if i % 2 == 0:\n",
    "            print(i)\n",
    "    elif i > 10:\n",
    "        if i % 2:\n",
    "            print(i)\n",
    "    i += 1\n",
    "else:\n",
    "    print(\"All done!\")"
   ]
  },
  {
   "cell_type": "markdown",
   "metadata": {},
   "source": [
    "## For "
   ]
  },
  {
   "cell_type": "code",
   "execution_count": 17,
   "metadata": {},
   "outputs": [
    {
     "name": "stdout",
     "output_type": "stream",
     "text": [
      "['hitesh', 'kapil', 'ajay', 'bharat', 'mahesh', 'bhavik']\n"
     ]
    }
   ],
   "source": [
    "# make uniqe list\n",
    "\n",
    "names = ['hitesh','kapil','hitesh','ajay', 'kapil', 'bharat','mahesh','bhavik','ajay']\n",
    "\n",
    "t_ls = []\n",
    "\n",
    "for x in names:\n",
    "    if x not in t_ls:\n",
    "        t_ls.append(x)\n",
    "\n",
    "print(t_ls)"
   ]
  },
  {
   "cell_type": "code",
   "execution_count": 18,
   "metadata": {},
   "outputs": [
    {
     "name": "stdout",
     "output_type": "stream",
     "text": [
      "2 * 1 = 2\n",
      "\n",
      "2 * 2 = 4\n",
      "\n",
      "2 * 3 = 6\n",
      "\n",
      "2 * 4 = 8\n",
      "\n",
      "2 * 5 = 10\n",
      "\n",
      "2 * 6 = 12\n",
      "\n",
      "2 * 7 = 14\n",
      "\n",
      "2 * 8 = 16\n",
      "\n",
      "2 * 9 = 18\n",
      "\n",
      "2 * 10 = 20\n",
      "\n",
      "5 * 1 = 5\n",
      "\n",
      "5 * 2 = 10\n",
      "\n",
      "5 * 3 = 15\n",
      "\n",
      "5 * 4 = 20\n",
      "\n",
      "5 * 5 = 25\n",
      "\n",
      "5 * 6 = 30\n",
      "\n",
      "5 * 7 = 35\n",
      "\n",
      "5 * 8 = 40\n",
      "\n",
      "5 * 9 = 45\n",
      "\n",
      "5 * 10 = 50\n",
      "\n",
      "7 * 1 = 7\n",
      "\n",
      "7 * 2 = 14\n",
      "\n",
      "7 * 3 = 21\n",
      "\n",
      "7 * 4 = 28\n",
      "\n",
      "7 * 5 = 35\n",
      "\n",
      "7 * 6 = 42\n",
      "\n",
      "7 * 7 = 49\n",
      "\n",
      "7 * 8 = 56\n",
      "\n",
      "7 * 9 = 63\n",
      "\n",
      "7 * 10 = 70\n",
      "\n"
     ]
    }
   ],
   "source": [
    "# print table of list item\n",
    "\n",
    "nums = [2,5,7]\n",
    "\n",
    "for x in nums:\n",
    "    for y in range(1,11):\n",
    "        print(f'{x} * {y} = ' + str( x * y ), end=\"\\n\\n\")"
   ]
  },
  {
   "cell_type": "code",
   "execution_count": 19,
   "metadata": {},
   "outputs": [
    {
     "name": "stdout",
     "output_type": "stream",
     "text": [
      "enter a number to find factorial: 5\n",
      "5  --->  120\n"
     ]
    }
   ],
   "source": [
    "user_num = int(input(\"enter a number to find factorial: \"))\n",
    "\n",
    "def_fact = 1\n",
    "\n",
    "i = 1\n",
    "\n",
    "while i <= user_num:\n",
    "    def_fact = def_fact * i\n",
    "    i = i + 1\n",
    "\n",
    "print(user_num, \" ---> \", def_fact)"
   ]
  },
  {
   "cell_type": "code",
   "execution_count": 20,
   "metadata": {},
   "outputs": [
    {
     "data": {
      "text/plain": [
       "120"
      ]
     },
     "execution_count": 20,
     "metadata": {},
     "output_type": "execute_result"
    }
   ],
   "source": [
    "1 * 2 * 3 * 4 * 5"
   ]
  },
  {
   "cell_type": "code",
   "execution_count": 26,
   "metadata": {},
   "outputs": [
    {
     "name": "stdout",
     "output_type": "stream",
     "text": [
      "enter limits: 20\n",
      "2\n",
      "4\n",
      "5\n",
      "10\n",
      "yes\n"
     ]
    }
   ],
   "source": [
    "# prime number\n",
    "user_num = int(input(\"enter limits: \"))\n",
    "\n",
    "for i in range(2, user_num):\n",
    "    if user_num % i == 0:\n",
    "        print( i )\n",
    "        #break\n",
    "else:\n",
    "    print('yes')"
   ]
  },
  {
   "cell_type": "code",
   "execution_count": 27,
   "metadata": {},
   "outputs": [
    {
     "name": "stdout",
     "output_type": "stream",
     "text": [
      "enter anything:: hitesh\n",
      "h\n",
      "i\n",
      "t\n",
      "e\n",
      "s\n",
      "h\n"
     ]
    }
   ],
   "source": [
    "inp = input('enter anything:: ')\n",
    "\n",
    "\n",
    "i = 0\n",
    "while i < len(inp):\n",
    "    print(inp[i])\n",
    "    i += 1"
   ]
  },
  {
   "cell_type": "code",
   "execution_count": 30,
   "metadata": {},
   "outputs": [
    {
     "name": "stdout",
     "output_type": "stream",
     "text": [
      "enter anything:: kanak\n",
      "Yes, kanak is palindrome..\n"
     ]
    }
   ],
   "source": [
    "inp = input('enter anything:: ')\n",
    "\n",
    "i = len(inp) # 7\n",
    "s = []\n",
    "while i > 0:\n",
    "    s.append(inp[i-1])\n",
    "    i -= 1\n",
    "if inp == ''.join(s):\n",
    "    print(f'Yes, {inp} is palindrome..')\n",
    "else:\n",
    "    print(f'No, {inp} is not palindrome..')"
   ]
  },
  {
   "cell_type": "code",
   "execution_count": 32,
   "metadata": {},
   "outputs": [
    {
     "name": "stdout",
     "output_type": "stream",
     "text": [
      "Enter anything..hitesh\n",
      "No\n"
     ]
    }
   ],
   "source": [
    "a = input('Enter anything..')\n",
    "\n",
    "if a == a[::-1]:\n",
    "    print('Yes')\n",
    "else:\n",
    "    print('No')"
   ]
  },
  {
   "cell_type": "code",
   "execution_count": 33,
   "metadata": {},
   "outputs": [
    {
     "data": {
      "text/plain": [
       "'hsetih'"
      ]
     },
     "execution_count": 33,
     "metadata": {},
     "output_type": "execute_result"
    }
   ],
   "source": [
    "a[::-1]"
   ]
  },
  {
   "cell_type": "code",
   "execution_count": null,
   "metadata": {},
   "outputs": [],
   "source": []
  }
 ],
 "metadata": {
  "kernelspec": {
   "display_name": "Python 3",
   "language": "python",
   "name": "python3"
  },
  "language_info": {
   "codemirror_mode": {
    "name": "ipython",
    "version": 3
   },
   "file_extension": ".py",
   "mimetype": "text/x-python",
   "name": "python",
   "nbconvert_exporter": "python",
   "pygments_lexer": "ipython3",
   "version": "3.7.0"
  }
 },
 "nbformat": 4,
 "nbformat_minor": 2
}
