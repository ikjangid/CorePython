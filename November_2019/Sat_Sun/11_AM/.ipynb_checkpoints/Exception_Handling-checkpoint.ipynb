{
 "cells": [
  {
   "cell_type": "markdown",
   "metadata": {},
   "source": [
    "# Exception Handling\n",
    "\n",
    "### In Python, exceptions are triggered automatically on errors, and they can be triggered and intercepted by your code. Python generate an exception that can be handled, which avoids your program to crash.\n",
    "\n",
    "### Exceptions are processed by four statements::\n",
    "#### 1. try/except - Catch and recover from exceptions raised by Python, or by you.\n",
    "#### 2. try/finally - Perform cleanup actions, whether exceptions occur or not.\n",
    "#### 3. raise - Trigger an exception manually in your code.\n",
    "#### 4. assert - Conditionally trigger an exception in your code.\n",
    "\n",
    "## Difference between Exception and Error\n",
    "\n",
    "### Error - The most common reason of an error in a Python program is when a certain statement is not in accordance with the prescribed usage. Such an error is called a syntax error.\n",
    "\n",
    "### Exception -  An exception is an error that happens during execution of a program."
   ]
  },
  {
   "cell_type": "code",
   "execution_count": 1,
   "metadata": {},
   "outputs": [
    {
     "ename": "SyntaxError",
     "evalue": "invalid syntax (<ipython-input-1-a86839bc7cba>, line 4)",
     "output_type": "error",
     "traceback": [
      "\u001b[1;36m  File \u001b[1;32m\"<ipython-input-1-a86839bc7cba>\"\u001b[1;36m, line \u001b[1;32m4\u001b[0m\n\u001b[1;33m    print( 0 / 0 ) /\u001b[0m\n\u001b[1;37m                    ^\u001b[0m\n\u001b[1;31mSyntaxError\u001b[0m\u001b[1;31m:\u001b[0m invalid syntax\n"
     ]
    }
   ],
   "source": [
    "# Syntax error\n",
    "# Syntax errors occur when the parser detects an incorrect statement.\n",
    "\n",
    "print( 0 / 0 ) /"
   ]
  },
  {
   "cell_type": "code",
   "execution_count": 2,
   "metadata": {},
   "outputs": [
    {
     "ename": "ZeroDivisionError",
     "evalue": "division by zero",
     "output_type": "error",
     "traceback": [
      "\u001b[1;31m---------------------------------------------------------------------------\u001b[0m",
      "\u001b[1;31mZeroDivisionError\u001b[0m                         Traceback (most recent call last)",
      "\u001b[1;32m<ipython-input-2-7d5af3bf3fe6>\u001b[0m in \u001b[0;36m<module>\u001b[1;34m()\u001b[0m\n\u001b[0;32m      3\u001b[0m \u001b[1;31m## The last line of the message indicated what type of exception error you ran into.\u001b[0m\u001b[1;33m\u001b[0m\u001b[1;33m\u001b[0m\u001b[0m\n\u001b[0;32m      4\u001b[0m \u001b[1;33m\u001b[0m\u001b[0m\n\u001b[1;32m----> 5\u001b[1;33m \u001b[0mprint\u001b[0m\u001b[1;33m(\u001b[0m \u001b[1;36m0\u001b[0m \u001b[1;33m/\u001b[0m \u001b[1;36m0\u001b[0m\u001b[1;33m)\u001b[0m\u001b[1;33m\u001b[0m\u001b[0m\n\u001b[0m",
      "\u001b[1;31mZeroDivisionError\u001b[0m: division by zero"
     ]
    }
   ],
   "source": [
    "# An exception error\n",
    "## This type of error occurs whenever syntactically correct Python code results in an error.\n",
    "## The last line of the message indicated what type of exception error you ran into.\n",
    "\n",
    "print( 0 / 0)"
   ]
  },
  {
   "cell_type": "markdown",
   "metadata": {},
   "source": [
    "## Built-in Exceptions in Python\n",
    "\n",
    "* ### AssertionError - Raised when assert statement fails.\n",
    "* ### AttributeError - Raised when attribute assignment or reference fails.\n",
    "* ### EOFError - Raised when the input() functions hits end-of-file condition.\n",
    "* ### FloatingPointError - Raised when a floating point operation fails.\n",
    "* ### GeneratorExit - Raise when a generator's close() method is called.\n",
    "* ### ImportError - Raised when the imported module is not found\n",
    "* ### IndexError - Raised when index of a sequence is out of range.\n",
    "* ### KeyError - Raised when a key is not found in a dictionary.\n",
    "* ### KeyboardInterrupt - Raised when the user hits interrupt key (Ctrl+c or delete)\n",
    "* ### MemoryError - Raised when an operation runs out of memory.\n",
    "* ### NameError - Raised when a variable is not found in local or global scope.\n",
    "* ### NotImplementedError - Raised by abstract methods.\n",
    "* ### OSError - Raised when system operation causes system related error.\n",
    "* ### OverflowError - Raised when result of an arithmetic operation is too large to be represented.\n",
    "* ### ReferenceError - Raised when a weak reference proxy is used to access a garbage collected referent.\n",
    "* ### RuntimeError - Raised when an error does not fall under any other category.\n",
    "* ### StopIteration - Raised by next() function to indicate that there is no further item to be returned by iterator.\n",
    "* ### SyntaxError Raised by parser when syntax error is encountered.\n",
    "* ### IndentationError - Raised when there is incorrect indentation.\n",
    "* ### TabError - Raised when indentation consists of inconsistent tabs and spaces.\n",
    "* ### SystemError - Raised when interpreter detects internal error.\n",
    "* ### SystemExit - Raised by sys.exit() function.\n",
    "* ### TypeError - Raised when a function or operation is applied to an object of incorrect type.\n",
    "* ### UnboundLocalError - Raised when a reference is made to a local variable in a function or method, but no value has been bound to that variable.\n",
    "* ### UnicodeError - Raised when a Unicode-related encoding or decoding error occurs.\n",
    "* ### UnicodeEncodeError - Raised when a Unicode-related error occurs during encoding.\n",
    "* ### UnicodeDecodeError - Raised when a Unicode-related error occurs during decoding.\n",
    "* ### UnicodeTranslateError - Raised when a Unicode-related error occurs during translating.\n",
    "* ### ValueError - Raised when a function gets argument of correct type but improper value.\n",
    "* ### ZeroDivisionError - Raised when second operand of division or modulo operation is zero."
   ]
  },
  {
   "cell_type": "code",
   "execution_count": 3,
   "metadata": {},
   "outputs": [
    {
     "ename": "Exception",
     "evalue": "a should not exceed 5. The value of x was: 10",
     "output_type": "error",
     "traceback": [
      "\u001b[1;31m---------------------------------------------------------------------------\u001b[0m",
      "\u001b[1;31mException\u001b[0m                                 Traceback (most recent call last)",
      "\u001b[1;32m<ipython-input-3-5350342acb46>\u001b[0m in \u001b[0;36m<module>\u001b[1;34m()\u001b[0m\n\u001b[0;32m      5\u001b[0m \u001b[0ma\u001b[0m \u001b[1;33m=\u001b[0m \u001b[1;36m10\u001b[0m\u001b[1;33m\u001b[0m\u001b[0m\n\u001b[0;32m      6\u001b[0m \u001b[1;32mif\u001b[0m \u001b[0ma\u001b[0m \u001b[1;33m>\u001b[0m \u001b[1;36m5\u001b[0m\u001b[1;33m:\u001b[0m\u001b[1;33m\u001b[0m\u001b[0m\n\u001b[1;32m----> 7\u001b[1;33m     \u001b[1;32mraise\u001b[0m \u001b[0mException\u001b[0m\u001b[1;33m(\u001b[0m\u001b[1;34mf'a should not exceed 5. The value of x was: {a}'\u001b[0m\u001b[1;33m)\u001b[0m\u001b[1;33m\u001b[0m\u001b[0m\n\u001b[0m",
      "\u001b[1;31mException\u001b[0m: a should not exceed 5. The value of x was: 10"
     ]
    }
   ],
   "source": [
    "### Raising an Exception\n",
    "## We can use raise to throw an exception if a condition occurs. The statement can be complemented with a custom exception.\n",
    "## If you want to throw an error when a certain condition occurs using raise\n",
    "\n",
    "a = 10\n",
    "if a > 5:\n",
    "    raise Exception(f'a should not exceed 5. The value of x was: {a}')"
   ]
  },
  {
   "cell_type": "code",
   "execution_count": 4,
   "metadata": {},
   "outputs": [
    {
     "name": "stdout",
     "output_type": "stream",
     "text": [
      "a should not exceed 5. The value of x was: 10\n"
     ]
    }
   ],
   "source": [
    "if a > 5:\n",
    "    print(f'a should not exceed 5. The value of x was: {a}')"
   ]
  },
  {
   "cell_type": "code",
   "execution_count": 5,
   "metadata": {},
   "outputs": [
    {
     "ename": "AssertionError",
     "evalue": "dictionary should have 'bhavik' as value of key name.",
     "output_type": "error",
     "traceback": [
      "\u001b[1;31m---------------------------------------------------------------------------\u001b[0m",
      "\u001b[1;31mAssertionError\u001b[0m                            Traceback (most recent call last)",
      "\u001b[1;32m<ipython-input-5-72bab53a8b2b>\u001b[0m in \u001b[0;36m<module>\u001b[1;34m()\u001b[0m\n\u001b[0;32m      9\u001b[0m     \u001b[1;34m'city'\u001b[0m \u001b[1;33m:\u001b[0m \u001b[1;34m'Ahm'\u001b[0m\u001b[1;33m,\u001b[0m\u001b[1;33m\u001b[0m\u001b[0m\n\u001b[0;32m     10\u001b[0m }\n\u001b[1;32m---> 11\u001b[1;33m \u001b[1;32massert\u001b[0m \u001b[1;33m(\u001b[0m\u001b[1;34m'bhavik'\u001b[0m \u001b[1;32min\u001b[0m \u001b[0mdic\u001b[0m\u001b[1;33m.\u001b[0m\u001b[0mvalues\u001b[0m\u001b[1;33m(\u001b[0m\u001b[1;33m)\u001b[0m\u001b[1;33m)\u001b[0m\u001b[1;33m,\u001b[0m \u001b[1;34m\"dictionary should have 'bhavik' as value of key name.\"\u001b[0m\u001b[1;33m\u001b[0m\u001b[0m\n\u001b[0m",
      "\u001b[1;31mAssertionError\u001b[0m: dictionary should have 'bhavik' as value of key name."
     ]
    }
   ],
   "source": [
    "## The AssertionError Exception\n",
    "\n",
    "\"\"\" Instead of waiting for a program to crash midway, you can also start by making an assertion in Python.\n",
    "We assert that a certain condition is met. If this condition turns out to be True, then that is excellent!\n",
    "The program can continue. If the condition turns out to be False, you can have the program throw an AssertionError exception. \"\"\"\n",
    "\n",
    "dic = {\n",
    "    'name' : '',\n",
    "    'city' : 'Ahm',\n",
    "}\n",
    "assert ('bhavik' in dic.values()), \"dictionary should have 'bhavik' as value of key name.\""
   ]
  },
  {
   "cell_type": "code",
   "execution_count": 8,
   "metadata": {},
   "outputs": [
    {
     "name": "stdout",
     "output_type": "stream",
     "text": [
      "Please enter your name:: mahesh\n"
     ]
    },
    {
     "ename": "AssertionError",
     "evalue": "required 'bhavik' as value of key 'name' but you entered 'mahesh'.",
     "output_type": "error",
     "traceback": [
      "\u001b[1;31m---------------------------------------------------------------------------\u001b[0m",
      "\u001b[1;31mAssertionError\u001b[0m                            Traceback (most recent call last)",
      "\u001b[1;32m<ipython-input-8-3b36e56d2b7e>\u001b[0m in \u001b[0;36m<module>\u001b[1;34m()\u001b[0m\n\u001b[0;32m      6\u001b[0m \u001b[0mdic\u001b[0m\u001b[1;33m[\u001b[0m\u001b[1;34m'name'\u001b[0m\u001b[1;33m]\u001b[0m \u001b[1;33m=\u001b[0m \u001b[0mname\u001b[0m \u001b[1;33m=\u001b[0m \u001b[0minput\u001b[0m\u001b[1;33m(\u001b[0m\u001b[1;34m'Please enter your name:: '\u001b[0m\u001b[1;33m)\u001b[0m\u001b[1;33m\u001b[0m\u001b[0m\n\u001b[0;32m      7\u001b[0m \u001b[1;33m\u001b[0m\u001b[0m\n\u001b[1;32m----> 8\u001b[1;33m \u001b[1;32massert\u001b[0m \u001b[1;33m(\u001b[0m\u001b[1;34m'bhavik'\u001b[0m \u001b[1;32min\u001b[0m \u001b[0mdic\u001b[0m\u001b[1;33m.\u001b[0m\u001b[0mvalues\u001b[0m\u001b[1;33m(\u001b[0m\u001b[1;33m)\u001b[0m\u001b[1;33m)\u001b[0m\u001b[1;33m,\u001b[0m \u001b[1;34mf\"required 'bhavik' as value of key 'name' but you entered '{name}'.\"\u001b[0m\u001b[1;33m\u001b[0m\u001b[0m\n\u001b[0m",
      "\u001b[1;31mAssertionError\u001b[0m: required 'bhavik' as value of key 'name' but you entered 'mahesh'."
     ]
    }
   ],
   "source": [
    "dic = {\n",
    "    'name' : None,\n",
    "    'city' : 'Ahm',\n",
    "}\n",
    "\n",
    "dic['name'] = name = input('Please enter your name:: ')\n",
    "\n",
    "assert ('bhavik' in dic.values()), f\"required 'bhavik' as value of key 'name' but you entered '{name}'.\""
   ]
  },
  {
   "cell_type": "code",
   "execution_count": 9,
   "metadata": {},
   "outputs": [
    {
     "name": "stdout",
     "output_type": "stream",
     "text": [
      "Please enter your name:: bhavik\n"
     ]
    }
   ],
   "source": [
    "dic['name'] = input('Please enter your name:: ')\n",
    "\n",
    "assert ('bhavik' in dic.values()), \"dictionary should have 'bhavik' as value of key 'name'.\""
   ]
  },
  {
   "cell_type": "code",
   "execution_count": 10,
   "metadata": {},
   "outputs": [
    {
     "data": {
      "text/plain": [
       "'bhavik'"
      ]
     },
     "execution_count": 10,
     "metadata": {},
     "output_type": "execute_result"
    }
   ],
   "source": [
    "dic['name']"
   ]
  },
  {
   "cell_type": "markdown",
   "metadata": {},
   "source": [
    "### Handling Exceptions\n",
    "#### The try and except block in Python is used to catch and handle exceptions.\n",
    "\n",
    "#### The code that follows the except statement is the program’s response to any exceptions in the preceding try clause."
   ]
  },
  {
   "cell_type": "code",
   "execution_count": 11,
   "metadata": {},
   "outputs": [],
   "source": [
    "def myRecord():\n",
    "    \"\"\"\n",
    "    As you saw earlier, when syntactically correct code runs into an error, Python will throw an exception error.\n",
    "    This exception error will crash the program if it is unhandled.\n",
    "    The except clause determines how your program responds to exceptions.\n",
    "    \"\"\"\n",
    "    \n",
    "    dic = {\n",
    "        'name' : None,\n",
    "        'city' : 'Ahm',\n",
    "    }\n",
    "\n",
    "    dic['name'] = name = input('Please enter your name:: ')\n",
    "    assert ('bhavik' in dic.values()), f\"required 'bhavik' as value of key 'name' but you entered '{name}'.\""
   ]
  },
  {
   "cell_type": "code",
   "execution_count": 12,
   "metadata": {},
   "outputs": [
    {
     "name": "stdout",
     "output_type": "stream",
     "text": [
      "Please enter your name:: mahesh\n",
      "The dictionary in myRecord should have \"bhavik\" as value of key \"name\".\n"
     ]
    }
   ],
   "source": [
    "# test myRecord() function\n",
    "\n",
    "try:\n",
    "    myRecord()\n",
    "except:\n",
    "    print('The dictionary in myRecord should have \"bhavik\" as value of key \"name\".')"
   ]
  },
  {
   "cell_type": "code",
   "execution_count": 13,
   "metadata": {},
   "outputs": [
    {
     "name": "stdout",
     "output_type": "stream",
     "text": [
      "\n",
      "    As you saw earlier, when syntactically correct code runs into an error, Python will throw an exception error.\n",
      "    This exception error will crash the program if it is unhandled.\n",
      "    The except clause determines how your program responds to exceptions.\n",
      "    \n"
     ]
    }
   ],
   "source": [
    "print(myRecord.__doc__)"
   ]
  },
  {
   "cell_type": "code",
   "execution_count": 14,
   "metadata": {},
   "outputs": [
    {
     "name": "stdout",
     "output_type": "stream",
     "text": [
      "Please enter your name:: mahesh\n",
      "required 'bhavik' as value of key 'name' but you entered 'mahesh'.\n"
     ]
    }
   ],
   "source": [
    "# get an error string from myRecord() function\n",
    "\n",
    "try:\n",
    "    myRecord()\n",
    "except AssertionError as error:\n",
    "    print(error)\n",
    "    #print('The dictionary in myRecord should have \"bhavik\" as value of key \"name\".')"
   ]
  },
  {
   "cell_type": "code",
   "execution_count": null,
   "metadata": {},
   "outputs": [],
   "source": []
  }
 ],
 "metadata": {
  "kernelspec": {
   "display_name": "Python 3",
   "language": "python",
   "name": "python3"
  },
  "language_info": {
   "codemirror_mode": {
    "name": "ipython",
    "version": 3
   },
   "file_extension": ".py",
   "mimetype": "text/x-python",
   "name": "python",
   "nbconvert_exporter": "python",
   "pygments_lexer": "ipython3",
   "version": "3.7.0"
  }
 },
 "nbformat": 4,
 "nbformat_minor": 2
}
