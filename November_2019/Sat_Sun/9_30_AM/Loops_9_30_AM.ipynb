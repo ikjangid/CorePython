{
 "cells": [
  {
   "cell_type": "markdown",
   "metadata": {},
   "source": [
    "# Loop in python\n",
    "\n",
    "* While __ else\n",
    "* For"
   ]
  },
  {
   "cell_type": "code",
   "execution_count": 1,
   "metadata": {},
   "outputs": [
    {
     "name": "stdout",
     "output_type": "stream",
     "text": [
      "0\n",
      "1\n",
      "2\n",
      "3\n",
      "4\n",
      "5\n",
      "6\n",
      "7\n",
      "8\n",
      "9\n"
     ]
    }
   ],
   "source": [
    "# while __ else\n",
    "\n",
    "i = 0\n",
    "\n",
    "while i < 10:\n",
    "    print( i )\n",
    "    i += 1"
   ]
  },
  {
   "cell_type": "code",
   "execution_count": 2,
   "metadata": {},
   "outputs": [
    {
     "name": "stdout",
     "output_type": "stream",
     "text": [
      "0\n",
      "2\n",
      "4\n",
      "6\n",
      "8\n"
     ]
    }
   ],
   "source": [
    "i = 0\n",
    "\n",
    "while i < 10:\n",
    "    if i % 2 == 0: # check weather i even or not\n",
    "        print( i )\n",
    "    i += 1"
   ]
  },
  {
   "cell_type": "code",
   "execution_count": 5,
   "metadata": {},
   "outputs": [
    {
     "name": "stdout",
     "output_type": "stream",
     "text": [
      "\n",
      "*\n",
      "**\n",
      "***\n",
      "****\n",
      "*****\n",
      "******\n",
      "*******\n",
      "********\n",
      "*********\n"
     ]
    }
   ],
   "source": [
    "# triangle\n",
    "\n",
    "i = 0\n",
    "\n",
    "while i < 10:\n",
    "    print( '*' * i )\n",
    "    i += 1"
   ]
  },
  {
   "cell_type": "code",
   "execution_count": 6,
   "metadata": {},
   "outputs": [
    {
     "name": "stdout",
     "output_type": "stream",
     "text": [
      "          \n",
      "         * \n",
      "        * * \n",
      "       * * * \n",
      "      * * * * \n",
      "     * * * * * \n",
      "    * * * * * * \n",
      "   * * * * * * * \n",
      "  * * * * * * * * \n",
      " * * * * * * * * * \n"
     ]
    }
   ],
   "source": [
    "i = 0\n",
    "\n",
    "while i < 10:\n",
    "    print( ' ' * (10 - i) + '* ' * i )\n",
    "    i += 1"
   ]
  },
  {
   "cell_type": "code",
   "execution_count": 7,
   "metadata": {},
   "outputs": [
    {
     "name": "stdout",
     "output_type": "stream",
     "text": [
      " one : 1\n",
      " two : 2\n",
      " three : 3\n",
      " four : 4\n"
     ]
    }
   ],
   "source": [
    "words = ['one', 'two', 'three', 'four']\n",
    "nums = [1,2,3,4]\n",
    "\n",
    "i = 0\n",
    "\n",
    "while i < len(words) :\n",
    "    print( f\" {words[i]} : {nums[i]}\" )\n",
    "    i += 1"
   ]
  },
  {
   "cell_type": "code",
   "execution_count": 8,
   "metadata": {},
   "outputs": [
    {
     "name": "stdout",
     "output_type": "stream",
     "text": [
      "{'one': 1, 'two': 2, 'three': 3, 'four': 4}\n"
     ]
    }
   ],
   "source": [
    "words = ['one', 'two', 'three', 'four']\n",
    "nums = [1,2,3,4]\n",
    "\n",
    "i = 0\n",
    "mydict = {}\n",
    "while i < len(words) :\n",
    "    mydict.setdefault(words[i], nums[i])\n",
    "    i += 1\n",
    "print(mydict)"
   ]
  },
  {
   "cell_type": "code",
   "execution_count": 9,
   "metadata": {},
   "outputs": [
    {
     "name": "stdout",
     "output_type": "stream",
     "text": [
      "bharat is available in abcdefghijklmnbharatopqrstmoizuvwxyz\n",
      "moiz is available in abcdefghijklmnbharatopqrstmoizuvwxyz\n"
     ]
    }
   ],
   "source": [
    "i = 0\n",
    "st = \"abcdefghijklmnbharatopqrstmoizuvwxyz\"\n",
    "\n",
    "d_list = ['bharat','moiz']\n",
    "\n",
    "while i < len(d_list) :\n",
    "    if d_list[i] in st :\n",
    "        print( f\"{d_list[i]} is available in {st}\" )\n",
    "        \n",
    "    i += 1"
   ]
  },
  {
   "cell_type": "code",
   "execution_count": 10,
   "metadata": {},
   "outputs": [
    {
     "name": "stdout",
     "output_type": "stream",
     "text": [
      "bharat --- abcdefghijklmn'bharat'ghijklmnbharatopqrstmoizuvwxyzopqrstmoizuvwxyz\n",
      "moiz --- abcdefghijklmnbharatopqrst'moiz'efghijklmnbharatopqrstmoizuvwxyzuvwxyz\n"
     ]
    }
   ],
   "source": [
    "i = 0\n",
    "st = \"abcdefghijklmnbharatopqrstmoizuvwxyz\"\n",
    "\n",
    "d_list = ['bharat','moiz']\n",
    "\n",
    "while i < len(d_list) :\n",
    "    if d_list[i] in st :\n",
    "        s = \"'\" + d_list[i] + \"'\" + st[ len(d_list[i]) : 100 ]\n",
    "        print( f\"{ d_list[i] } --- { st.replace( d_list[i], s ) }\")\n",
    "    i += 1"
   ]
  },
  {
   "cell_type": "code",
   "execution_count": 11,
   "metadata": {},
   "outputs": [
    {
     "name": "stdout",
     "output_type": "stream",
     "text": [
      "bharat --- opqrstmoizuvwxyz\n",
      "moiz --- uvwxyz\n"
     ]
    }
   ],
   "source": [
    "i = 0\n",
    "st = \"abcdefghijklmnbharatopqrstmoizuvwxyz\"\n",
    "\n",
    "d_list = ['bharat','moiz']\n",
    "\n",
    "while i < len(d_list) :\n",
    "    if d_list[i] in st :\n",
    "        print(f\"{ d_list[i] } --- { st[ st.find( d_list[i] ) + len( d_list[i] ) : ] }\")\n",
    "    i += 1"
   ]
  },
  {
   "cell_type": "code",
   "execution_count": 13,
   "metadata": {},
   "outputs": [
    {
     "name": "stdout",
     "output_type": "stream",
     "text": [
      "2 is even.\n",
      "4 is even.\n",
      "6 is even.\n",
      "8 is even.\n",
      "10 is even.\n",
      "12 is even.\n",
      "14 is even.\n",
      "16 is even.\n",
      "18 is even.\n",
      "20 is even.\n",
      "All done.\n"
     ]
    }
   ],
   "source": [
    "i = 1\n",
    "\n",
    "while i <= 20:\n",
    "    if i % 2 == 0 :\n",
    "        print(f\"{i} is even.\")\n",
    "    i += 1\n",
    "else:\n",
    "    print('All done.')"
   ]
  },
  {
   "cell_type": "code",
   "execution_count": 15,
   "metadata": {},
   "outputs": [
    {
     "name": "stdout",
     "output_type": "stream",
     "text": [
      "Enter your name please:: abcdefghi\n",
      "Re-enter your name:: abc\n",
      "defghi\n"
     ]
    }
   ],
   "source": [
    "f_in = input('Enter your name please:: ')\n",
    "\n",
    "s_in = input(\"Re-enter your name:: \")\n",
    "\n",
    "if f_in == s_in:\n",
    "    print(f_in, s_in, sep=',')\n",
    "else:\n",
    "    f_in_l = len(f_in)\n",
    "    s_in_l = len(s_in)\n",
    "    \n",
    "    if f_in[:s_in_l] != s_in:\n",
    "        print('totally mismatch!!')\n",
    "        s_in = input(\"Inputs mismatched, please re-enter your name again!!\")\n",
    "        \n",
    "        s_in_l = len(s_in)\n",
    "        \n",
    "        if f_in[:s_in_l] == s_in:\n",
    "            print('Correct')\n",
    "    else:\n",
    "        print( f_in[ s_in_l: ] )"
   ]
  },
  {
   "cell_type": "code",
   "execution_count": 16,
   "metadata": {},
   "outputs": [
    {
     "name": "stdout",
     "output_type": "stream",
     "text": [
      "Enter number: 20\n",
      "0\n",
      "2\n",
      "4\n",
      "6\n",
      "8\n",
      "10\n",
      "11\n",
      "13\n",
      "15\n",
      "17\n",
      "19\n",
      "All done!\n"
     ]
    }
   ],
   "source": [
    "i = 0\n",
    "inp = int( input('Enter number: ') )\n",
    "\n",
    "while i < inp:\n",
    "    if i <= 10:\n",
    "        if i % 2 == 0:\n",
    "            print(i)\n",
    "    elif i > 10:\n",
    "        if i % 2:\n",
    "            print(i)\n",
    "    i += 1\n",
    "else:\n",
    "    print(\"All done!\")"
   ]
  },
  {
   "cell_type": "markdown",
   "metadata": {},
   "source": [
    "## For "
   ]
  },
  {
   "cell_type": "code",
   "execution_count": 17,
   "metadata": {},
   "outputs": [
    {
     "name": "stdout",
     "output_type": "stream",
     "text": [
      "['bharat', 'moiz', 'kapil', 'ajay', 'mahesh', 'bhavik']\n"
     ]
    }
   ],
   "source": [
    "# make uniqe list\n",
    "\n",
    "names = ['bharat','moiz','kapil','bharat','ajay','mahesh','bhavik','ajay']\n",
    "\n",
    "t_ls = []\n",
    "\n",
    "for x in names:\n",
    "    if x not in t_ls:\n",
    "        t_ls.append(x)\n",
    "\n",
    "print(t_ls)"
   ]
  },
  {
   "cell_type": "code",
   "execution_count": 18,
   "metadata": {},
   "outputs": [
    {
     "name": "stdout",
     "output_type": "stream",
     "text": [
      "24 * 1 = 24\n",
      "\n",
      "24 * 2 = 48\n",
      "\n",
      "24 * 3 = 72\n",
      "\n",
      "24 * 4 = 96\n",
      "\n",
      "24 * 5 = 120\n",
      "\n",
      "24 * 6 = 144\n",
      "\n",
      "24 * 7 = 168\n",
      "\n",
      "24 * 8 = 192\n",
      "\n",
      "24 * 9 = 216\n",
      "\n",
      "24 * 10 = 240\n",
      "\n",
      "50 * 1 = 50\n",
      "\n",
      "50 * 2 = 100\n",
      "\n",
      "50 * 3 = 150\n",
      "\n",
      "50 * 4 = 200\n",
      "\n",
      "50 * 5 = 250\n",
      "\n",
      "50 * 6 = 300\n",
      "\n",
      "50 * 7 = 350\n",
      "\n",
      "50 * 8 = 400\n",
      "\n",
      "50 * 9 = 450\n",
      "\n",
      "50 * 10 = 500\n",
      "\n",
      "29 * 1 = 29\n",
      "\n",
      "29 * 2 = 58\n",
      "\n",
      "29 * 3 = 87\n",
      "\n",
      "29 * 4 = 116\n",
      "\n",
      "29 * 5 = 145\n",
      "\n",
      "29 * 6 = 174\n",
      "\n",
      "29 * 7 = 203\n",
      "\n",
      "29 * 8 = 232\n",
      "\n",
      "29 * 9 = 261\n",
      "\n",
      "29 * 10 = 290\n",
      "\n"
     ]
    }
   ],
   "source": [
    "# print table of list item\n",
    "\n",
    "nums = [24,50,29]\n",
    "\n",
    "for x in nums:\n",
    "    for y in range(1,11):\n",
    "        print(f'{x} * {y} = ' + str( x * y ), end=\"\\n\\n\")"
   ]
  },
  {
   "cell_type": "code",
   "execution_count": 19,
   "metadata": {},
   "outputs": [
    {
     "name": "stdout",
     "output_type": "stream",
     "text": [
      "enter a number to find factorial: 5\n",
      "5  --->  120\n"
     ]
    }
   ],
   "source": [
    "user_num = int(input(\"enter a number to find factorial: \"))\n",
    "\n",
    "def_fact = 1\n",
    "i = 1\n",
    "\n",
    "while i <= user_num:\n",
    "    def_fact = def_fact * i\n",
    "    i = i + 1\n",
    "\n",
    "print(user_num, \" ---> \", def_fact)"
   ]
  },
  {
   "cell_type": "code",
   "execution_count": 20,
   "metadata": {},
   "outputs": [
    {
     "data": {
      "text/plain": [
       "120"
      ]
     },
     "execution_count": 20,
     "metadata": {},
     "output_type": "execute_result"
    }
   ],
   "source": [
    "1 * 2 * 3 * 4 * 5"
   ]
  },
  {
   "cell_type": "code",
   "execution_count": 23,
   "metadata": {},
   "outputs": [
    {
     "name": "stdout",
     "output_type": "stream",
     "text": [
      "enter limits: 7\n",
      "yes\n"
     ]
    }
   ],
   "source": [
    "# prime number\n",
    "user_num = int(input(\"enter limits: \"))\n",
    "\n",
    "for i in range(2, user_num):\n",
    "    if user_num % i == 0:\n",
    "        print('not')\n",
    "        break\n",
    "else:\n",
    "    print('yes')"
   ]
  },
  {
   "cell_type": "code",
   "execution_count": 24,
   "metadata": {},
   "outputs": [
    {
     "name": "stdout",
     "output_type": "stream",
     "text": [
      "enter anything:: bharat moiz\n",
      "b\n",
      "h\n",
      "a\n",
      "r\n",
      "a\n",
      "t\n",
      " \n",
      "m\n",
      "o\n",
      "i\n",
      "z\n"
     ]
    }
   ],
   "source": [
    "inp = input('enter anything:: ')\n",
    "\n",
    "i = 0\n",
    "while i < len(inp):\n",
    "    print(inp[i])\n",
    "    i += 1"
   ]
  },
  {
   "cell_type": "code",
   "execution_count": 29,
   "metadata": {},
   "outputs": [
    {
     "name": "stdout",
     "output_type": "stream",
     "text": [
      "enter anything:: naman\n",
      "Yes, naman is palindrome..\n"
     ]
    }
   ],
   "source": [
    "inp = input('enter anything:: ')\n",
    "\n",
    "i = len(inp) # 7\n",
    "s = []\n",
    "while i > 0:\n",
    "    s.append(inp[i-1])\n",
    "    i -= 1\n",
    "if inp == ''.join(s):\n",
    "    print(f'Yes, {inp} is palindrome..')\n",
    "else:\n",
    "    print(f'No, {inp} is not palindrome..')"
   ]
  },
  {
   "cell_type": "code",
   "execution_count": 32,
   "metadata": {},
   "outputs": [
    {
     "name": "stdout",
     "output_type": "stream",
     "text": [
      "Enter anything..kapil\n",
      "No\n"
     ]
    }
   ],
   "source": [
    "a = input('Enter anything..')\n",
    "\n",
    "if a == a[::-1]:\n",
    "    print('Yes')\n",
    "else:\n",
    "    print('No')"
   ]
  },
  {
   "cell_type": "code",
   "execution_count": null,
   "metadata": {},
   "outputs": [],
   "source": []
  }
 ],
 "metadata": {
  "kernelspec": {
   "display_name": "Python 3",
   "language": "python",
   "name": "python3"
  },
  "language_info": {
   "codemirror_mode": {
    "name": "ipython",
    "version": 3
   },
   "file_extension": ".py",
   "mimetype": "text/x-python",
   "name": "python",
   "nbconvert_exporter": "python",
   "pygments_lexer": "ipython3",
   "version": "3.7.0"
  }
 },
 "nbformat": 4,
 "nbformat_minor": 2
}
