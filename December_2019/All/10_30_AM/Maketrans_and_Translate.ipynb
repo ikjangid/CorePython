{
 "cells": [
  {
   "cell_type": "markdown",
   "metadata": {},
   "source": [
    "# maktrans() and translate()\n",
    "\n",
    "### translate means convert or change\n",
    "\n",
    "### when a string is called as changed?\n",
    "* ### when we insert or replace word or character in the string\n",
    "* ### when we delete a word or character in the string\n",
    "\n",
    "## 1. translate()\n",
    "### this string method will change the string by replacing or deleting the character.\n",
    "\n",
    "## 2. maketrans()\n",
    "### this string method return a translation table usable for str.translate().\n",
    "\n",
    "### What is translation table?\n",
    "* ### the table is 256 character string giving the translation for each character value indexed by its ordinals.\n",
    "\n",
    "### To creates this table we can use maketrans() method.\n",
    "\n",
    "### syntax: maketrans(x, y=None, z=None, /) --> second and third argument are optional.\n",
    "\n",
    "* #### if we give one argument, the argument must be a dictionary mapping Unicode ordinals (integers) or characters to Unicode ordinals, strings or None. Character keys will be then converted to ordinals.\n",
    "\n",
    "### Note: you can get ordinal of any unicode character by ord() function. i.e: ord('a') --> 97\n",
    "\n",
    "### Example:\n",
    "\n",
    "### st = 'hello hi how are you'\n",
    "\n",
    "### dic = { 'a' : 'A', 'h' : 'H', 'y' : 'Y' }\n",
    "\n",
    "### st.maketrans( dic ) -- it will returns translation table like this --> {97: 'A', 104: 'H', 121: 'Y'}"
   ]
  },
  {
   "cell_type": "code",
   "execution_count": 1,
   "metadata": {},
   "outputs": [
    {
     "data": {
      "text/plain": [
       "{97: 'A', 104: 'H', 121: 'Y'}"
      ]
     },
     "execution_count": 1,
     "metadata": {},
     "output_type": "execute_result"
    }
   ],
   "source": [
    "st = 'hello hi how are you'\n",
    "\n",
    "dic = { 'a' : 'A', 'h' : 'H', 'y' : 'Y' }\n",
    "\n",
    "st.maketrans( dic )"
   ]
  },
  {
   "cell_type": "code",
   "execution_count": 2,
   "metadata": {},
   "outputs": [],
   "source": [
    "trans_table = st.maketrans( dic )"
   ]
  },
  {
   "cell_type": "code",
   "execution_count": 3,
   "metadata": {},
   "outputs": [
    {
     "data": {
      "text/plain": [
       "{97: 'A', 104: 'H', 121: 'Y'}"
      ]
     },
     "execution_count": 3,
     "metadata": {},
     "output_type": "execute_result"
    }
   ],
   "source": [
    "trans_table  # translation table as dictionary"
   ]
  },
  {
   "cell_type": "code",
   "execution_count": 4,
   "metadata": {},
   "outputs": [
    {
     "data": {
      "text/plain": [
       "97"
      ]
     },
     "execution_count": 4,
     "metadata": {},
     "output_type": "execute_result"
    }
   ],
   "source": [
    "ord('a') # it will returns a integer (ascii) represetation of unicode character 'a'"
   ]
  },
  {
   "cell_type": "code",
   "execution_count": 5,
   "metadata": {},
   "outputs": [
    {
     "data": {
      "text/plain": [
       "104"
      ]
     },
     "execution_count": 5,
     "metadata": {},
     "output_type": "execute_result"
    }
   ],
   "source": [
    "ord('h')"
   ]
  },
  {
   "cell_type": "code",
   "execution_count": 6,
   "metadata": {},
   "outputs": [
    {
     "data": {
      "text/plain": [
       "121"
      ]
     },
     "execution_count": 6,
     "metadata": {},
     "output_type": "execute_result"
    }
   ],
   "source": [
    "ord('y')"
   ]
  },
  {
   "cell_type": "code",
   "execution_count": 7,
   "metadata": {},
   "outputs": [],
   "source": [
    "translated_str = st.translate( trans_table )"
   ]
  },
  {
   "cell_type": "code",
   "execution_count": 8,
   "metadata": {},
   "outputs": [
    {
     "name": "stdout",
     "output_type": "stream",
     "text": [
      "Hello Hi How Are You\n"
     ]
    }
   ],
   "source": [
    "print(translated_str)"
   ]
  },
  {
   "cell_type": "code",
   "execution_count": 9,
   "metadata": {},
   "outputs": [
    {
     "name": "stdout",
     "output_type": "stream",
     "text": [
      "In this, keys mentioned as characters \"a\" and \"b\" {'a': 'A', 'h': 'H', 'y': 'Y'}\n",
      "In this, character keys \"a\" and \"b\" will be then converted to ordinals 97 and 98 {97: 'A', 104: 'H', 121: 'Y'}\n"
     ]
    }
   ],
   "source": [
    "print('In this, keys mentioned as characters \"a\" and \"b\"', dic) # dict by us\n",
    "print('In this, character keys \"a\" and \"b\" will be then converted to ordinals 97 and 98', trans_table) # dict by maketrans"
   ]
  },
  {
   "cell_type": "code",
   "execution_count": 10,
   "metadata": {},
   "outputs": [],
   "source": [
    "st1 = 'hay'\n",
    "st2 = 'HAY'\n",
    "\n",
    "trans = st.maketrans(st1, st2)"
   ]
  },
  {
   "cell_type": "code",
   "execution_count": 11,
   "metadata": {},
   "outputs": [
    {
     "data": {
      "text/plain": [
       "{104: 72, 97: 65, 121: 89}"
      ]
     },
     "execution_count": 11,
     "metadata": {},
     "output_type": "execute_result"
    }
   ],
   "source": [
    "trans"
   ]
  },
  {
   "cell_type": "code",
   "execution_count": 12,
   "metadata": {},
   "outputs": [
    {
     "data": {
      "text/plain": [
       "'Hello Hi How Are You'"
      ]
     },
     "execution_count": 12,
     "metadata": {},
     "output_type": "execute_result"
    }
   ],
   "source": [
    "st.translate( trans )"
   ]
  },
  {
   "cell_type": "code",
   "execution_count": 13,
   "metadata": {},
   "outputs": [
    {
     "data": {
      "text/plain": [
       "'Hello! wHAt Are You doing?'"
      ]
     },
     "execution_count": 13,
     "metadata": {},
     "output_type": "execute_result"
    }
   ],
   "source": [
    "'hello! what are you doing?'.translate(trans)"
   ]
  },
  {
   "cell_type": "code",
   "execution_count": 15,
   "metadata": {},
   "outputs": [
    {
     "data": {
      "text/plain": [
       "{97: 65, 98: 66, 104: 72, 121: 89, 49: None, 50: None, 51: None, 52: None}"
      ]
     },
     "execution_count": 15,
     "metadata": {},
     "output_type": "execute_result"
    }
   ],
   "source": [
    "mystr = 'hello hi how are you bye'\n",
    "s1 = 'abhy'\n",
    "s2 = 'ABHY'\n",
    "s3 = '1234'\n",
    "\n",
    "mystr.maketrans(s1,s2,s3)"
   ]
  },
  {
   "cell_type": "code",
   "execution_count": 17,
   "metadata": {},
   "outputs": [
    {
     "data": {
      "text/plain": [
       "'Hello Hi How Are You BYe'"
      ]
     },
     "execution_count": 17,
     "metadata": {},
     "output_type": "execute_result"
    }
   ],
   "source": [
    "tt = mystr.maketrans(s1,s2,s3)\n",
    "mystr.translate( tt )"
   ]
  },
  {
   "cell_type": "code",
   "execution_count": 18,
   "metadata": {},
   "outputs": [
    {
     "data": {
      "text/plain": [
       "'Hello mY Age is  YeArs.'"
      ]
     },
     "execution_count": 18,
     "metadata": {},
     "output_type": "execute_result"
    }
   ],
   "source": [
    "tt2 = 'Hello my age is 42 years.'.maketrans( s1,s2,s3 )\n",
    "'Hello my age is 42 years.'.translate( tt2 )"
   ]
  },
  {
   "cell_type": "code",
   "execution_count": 19,
   "metadata": {},
   "outputs": [
    {
     "data": {
      "text/plain": [
       "{97: 65, 98: 66, 104: 72, 121: 89, 49: None, 50: None, 51: None, 52: None}"
      ]
     },
     "execution_count": 19,
     "metadata": {},
     "output_type": "execute_result"
    }
   ],
   "source": [
    "tt2"
   ]
  },
  {
   "cell_type": "code",
   "execution_count": 21,
   "metadata": {},
   "outputs": [],
   "source": [
    "l1 = [ i for i in range(97,123) ]\n",
    "l2 = [ i for i in range(48,58) ]"
   ]
  },
  {
   "cell_type": "code",
   "execution_count": 22,
   "metadata": {},
   "outputs": [
    {
     "name": "stdout",
     "output_type": "stream",
     "text": [
      "97 98 99 100 101 102 103 104 105 106 107 108 109 110 111 112 113 114 115 116 117 118 119 120 121 122 48 49 50 51 52 53 54 55 56 57\n"
     ]
    }
   ],
   "source": [
    "print(*l1,*l2)"
   ]
  },
  {
   "cell_type": "code",
   "execution_count": null,
   "metadata": {},
   "outputs": [],
   "source": []
  }
 ],
 "metadata": {
  "kernelspec": {
   "display_name": "Python 3",
   "language": "python",
   "name": "python3"
  },
  "language_info": {
   "codemirror_mode": {
    "name": "ipython",
    "version": 3
   },
   "file_extension": ".py",
   "mimetype": "text/x-python",
   "name": "python",
   "nbconvert_exporter": "python",
   "pygments_lexer": "ipython3",
   "version": "3.7.0"
  }
 },
 "nbformat": 4,
 "nbformat_minor": 2
}
